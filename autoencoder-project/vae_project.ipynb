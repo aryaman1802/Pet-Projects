{
  "metadata": {
    "kernelspec": {
      "language": "python",
      "display_name": "Python 3",
      "name": "python3"
    },
    "language_info": {
      "name": "python",
      "version": "3.10.13",
      "mimetype": "text/x-python",
      "codemirror_mode": {
        "name": "ipython",
        "version": 3
      },
      "pygments_lexer": "ipython3",
      "nbconvert_exporter": "python",
      "file_extension": ".py"
    },
    "kaggle": {
      "accelerator": "none",
      "dataSources": [
        {
          "sourceId": 7850045,
          "sourceType": "datasetVersion",
          "datasetId": 4603416
        }
      ],
      "dockerImageVersionId": 30664,
      "isInternetEnabled": true,
      "language": "python",
      "sourceType": "notebook",
      "isGpuEnabled": false
    },
    "colab": {
      "provenance": []
    }
  },
  "nbformat_minor": 0,
  "nbformat": 4,
  "cells": [
    {
      "cell_type": "markdown",
      "source": [
        "We will use the [Variational Autoencoder](https://arxiv.org/abs/1312.6114), but slightly modified to suit our needs.\n",
        "\n",
        "Note: you will find a lot of functions `fn()`. These functions are just meant to test if the code written is working as it should. I put the testing code inside these functions as I didn't want to waste the namespace."
      ],
      "metadata": {
        "id": "f4tLyaCHXClI"
      }
    },
    {
      "cell_type": "code",
      "source": [
        "!pip install torchinfo"
      ],
      "metadata": {
        "colab": {
          "base_uri": "https://localhost:8080/"
        },
        "id": "Gw-H-3wOXHML",
        "outputId": "9d9952c8-403b-4e71-93ab-6ae76c6690ea"
      },
      "execution_count": 27,
      "outputs": [
        {
          "output_type": "stream",
          "name": "stdout",
          "text": [
            "Requirement already satisfied: torchinfo in /usr/local/lib/python3.10/dist-packages (1.8.0)\n"
          ]
        }
      ]
    },
    {
      "cell_type": "code",
      "source": [
        "# %load_ext autoreload\n",
        "# %autoreload 2\n",
        "\n",
        "import torch\n",
        "import torch.nn as nn\n",
        "import torch.nn.functional as F\n",
        "import torch.optim as optim\n",
        "from torch.utils.data import Dataset, DataLoader, random_split\n",
        "from torchvision import transforms\n",
        "import torchvision\n",
        "import torchinfo\n",
        "from torchinfo import summary\n",
        "\n",
        "import tensorflow as tf\n",
        "import tensorflow.keras.backend as K\n",
        "from tensorflow.keras import (\n",
        "    layers,\n",
        "    models,\n",
        "    datasets,\n",
        "    callbacks,\n",
        "    losses,\n",
        "    optimizers,\n",
        "    metrics,\n",
        ")\n",
        "\n",
        "from tqdm import tqdm\n",
        "import os\n",
        "from sklearn.model_selection import train_test_split\n",
        "from PIL import Image\n",
        "from pathlib import Path\n",
        "import pytz\n",
        "from datetime import datetime\n",
        "import time\n",
        "# import glob\n",
        "# import joblib\n",
        "# import albumentations\n",
        "\n",
        "import numpy as np\n",
        "import random\n",
        "import pandas as pd\n",
        "import matplotlib.pyplot as plt\n",
        "from scipy import stats\n",
        "# import seaborn as sns\n",
        "# plt.style.use(\"fivethirtyeight\")\n",
        "# plt.style.use(\"default\")\n",
        "\n",
        "# import warnings\n",
        "# warnings.filterwarnings(\"ignore\")\n",
        "\n",
        "%matplotlib inline\n",
        "# %config InlineBackend.figure_format=\"svg\"\n",
        "\n",
        "print(\"Imports done!\")"
      ],
      "metadata": {
        "execution": {
          "iopub.status.busy": "2024-03-14T17:10:00.876122Z",
          "iopub.execute_input": "2024-03-14T17:10:00.876959Z",
          "iopub.status.idle": "2024-03-14T17:10:17.201855Z",
          "shell.execute_reply.started": "2024-03-14T17:10:00.876924Z",
          "shell.execute_reply": "2024-03-14T17:10:17.200826Z"
        },
        "trusted": true,
        "colab": {
          "base_uri": "https://localhost:8080/"
        },
        "id": "rdrIwA92XBps",
        "outputId": "615c5dc3-22e7-441a-872e-463b80a23848"
      },
      "execution_count": 28,
      "outputs": [
        {
          "output_type": "stream",
          "name": "stdout",
          "text": [
            "Imports done!\n"
          ]
        }
      ]
    },
    {
      "cell_type": "code",
      "source": [
        "IMAGE_SIZE = 32\n",
        "BATCH_SIZE = 100\n",
        "VALIDATION_SPLIT = 0.2\n",
        "EMBEDDING_DIM = 2\n",
        "EPOCHS = 5\n",
        "BETA = 500"
      ],
      "metadata": {
        "execution": {
          "iopub.status.busy": "2024-03-14T17:10:17.203668Z",
          "iopub.execute_input": "2024-03-14T17:10:17.204695Z",
          "iopub.status.idle": "2024-03-14T17:10:17.209367Z",
          "shell.execute_reply.started": "2024-03-14T17:10:17.204658Z",
          "shell.execute_reply": "2024-03-14T17:10:17.208216Z"
        },
        "trusted": true,
        "id": "1Lhx9e5AXBpt"
      },
      "execution_count": 29,
      "outputs": []
    },
    {
      "cell_type": "markdown",
      "source": [
        "## Load and Preprocess the data"
      ],
      "metadata": {
        "id": "LEFjTdKRXBpt"
      }
    },
    {
      "cell_type": "code",
      "source": [
        "# Load the data\n",
        "(x_train, y_train), (x_test, y_test) = datasets.fashion_mnist.load_data()"
      ],
      "metadata": {
        "execution": {
          "iopub.status.busy": "2024-03-14T17:10:20.597532Z",
          "iopub.execute_input": "2024-03-14T17:10:20.598147Z",
          "iopub.status.idle": "2024-03-14T17:10:21.541594Z",
          "shell.execute_reply.started": "2024-03-14T17:10:20.598117Z",
          "shell.execute_reply": "2024-03-14T17:10:21.540573Z"
        },
        "trusted": true,
        "id": "axAN0b7YXBpu"
      },
      "execution_count": 30,
      "outputs": []
    },
    {
      "cell_type": "code",
      "source": [
        "# Preprocess the data\n",
        "\n",
        "def preprocess(imgs):\n",
        "    \"\"\"\n",
        "    Normalize and reshape the images\n",
        "    \"\"\"\n",
        "    imgs = imgs.astype(\"float32\") / 255.0\n",
        "    imgs = np.pad(imgs, ((0, 0), (2, 2), (2, 2)), constant_values=0.0)\n",
        "    imgs = np.expand_dims(imgs, -1)\n",
        "    return imgs\n",
        "\n",
        "\n",
        "x_train = preprocess(x_train)\n",
        "x_test = preprocess(x_test)"
      ],
      "metadata": {
        "execution": {
          "iopub.status.busy": "2024-03-14T17:10:21.543287Z",
          "iopub.execute_input": "2024-03-14T17:10:21.543618Z",
          "iopub.status.idle": "2024-03-14T17:10:21.780116Z",
          "shell.execute_reply.started": "2024-03-14T17:10:21.543592Z",
          "shell.execute_reply": "2024-03-14T17:10:21.779115Z"
        },
        "trusted": true,
        "id": "MW77hHZLXBpu"
      },
      "execution_count": 31,
      "outputs": []
    },
    {
      "cell_type": "code",
      "source": [
        "x_valid, x_test, y_valid, y_test = train_test_split(x_test, y_test, test_size=0.5,\n",
        "                                                    shuffle=True, stratify=y_test,\n",
        "                                                    random_state=42)"
      ],
      "metadata": {
        "execution": {
          "iopub.status.busy": "2024-03-14T17:10:21.781391Z",
          "iopub.execute_input": "2024-03-14T17:10:21.781688Z",
          "iopub.status.idle": "2024-03-14T17:10:21.809109Z",
          "shell.execute_reply.started": "2024-03-14T17:10:21.781662Z",
          "shell.execute_reply": "2024-03-14T17:10:21.808300Z"
        },
        "trusted": true,
        "id": "DQac104wXBpu"
      },
      "execution_count": 32,
      "outputs": []
    },
    {
      "cell_type": "code",
      "source": [
        "print(x_train.shape, x_valid.shape, x_test.shape, y_train.shape,\n",
        "      y_valid.shape, y_test.shape, sep='\\n')"
      ],
      "metadata": {
        "execution": {
          "iopub.status.busy": "2024-03-14T17:10:21.810829Z",
          "iopub.execute_input": "2024-03-14T17:10:21.811117Z",
          "iopub.status.idle": "2024-03-14T17:10:21.816198Z",
          "shell.execute_reply.started": "2024-03-14T17:10:21.811091Z",
          "shell.execute_reply": "2024-03-14T17:10:21.815416Z"
        },
        "trusted": true,
        "colab": {
          "base_uri": "https://localhost:8080/"
        },
        "id": "kJQ9L2iEXBpu",
        "outputId": "d30ab47a-5e8f-4cc5-b4ce-987a1c24fb9f"
      },
      "execution_count": 33,
      "outputs": [
        {
          "output_type": "stream",
          "name": "stdout",
          "text": [
            "(60000, 32, 32, 1)\n",
            "(5000, 32, 32, 1)\n",
            "(5000, 32, 32, 1)\n",
            "(60000,)\n",
            "(5000,)\n",
            "(5000,)\n"
          ]
        }
      ]
    },
    {
      "cell_type": "code",
      "source": [
        "class_labels = {\n",
        "    0: \"T-shirt/top\",\n",
        "    1: \"Trouser\",\n",
        "    2: \"Pullover\",\n",
        "    3: \"Dress\",\n",
        "    4: \"Coat\",\n",
        "    5: \"Sandal\",\n",
        "    6: \"Shirt\",\n",
        "    7: \"Sneaker\",\n",
        "    8: \"Bag\",\n",
        "    9: \"Ankle boot\"\n",
        "}"
      ],
      "metadata": {
        "execution": {
          "iopub.status.busy": "2024-03-14T17:10:21.817494Z",
          "iopub.execute_input": "2024-03-14T17:10:21.817756Z",
          "iopub.status.idle": "2024-03-14T17:10:21.825182Z",
          "shell.execute_reply.started": "2024-03-14T17:10:21.817734Z",
          "shell.execute_reply": "2024-03-14T17:10:21.824354Z"
        },
        "trusted": true,
        "id": "UUDWZ73-XBpu"
      },
      "execution_count": 34,
      "outputs": []
    },
    {
      "cell_type": "code",
      "source": [
        "np.random.seed(42)\n",
        "\n",
        "def visualize_data():\n",
        "    nrows = 8\n",
        "    ncols = 8\n",
        "    indices = np.random.randint(low=0, high=60000, size=nrows*ncols).reshape(nrows,ncols)\n",
        "    fig, ax = plt.subplots(nrows, ncols, figsize=(12,16))\n",
        "    for i in range(nrows):\n",
        "        for j in range(ncols):\n",
        "            idx = indices[i][j]\n",
        "            img = x_train[idx]\n",
        "            label = class_labels[y_train[idx]]\n",
        "            ax[i,j].imshow(img, cmap=\"gray\")\n",
        "            ax[i,j].set_title(label, fontsize=8)\n",
        "            ax[i,j].axis(\"off\")\n",
        "\n",
        "\n",
        "visualize_data()"
      ],
      "metadata": {
        "execution": {
          "iopub.status.busy": "2024-03-14T17:10:22.000773Z",
          "iopub.execute_input": "2024-03-14T17:10:22.001068Z",
          "iopub.status.idle": "2024-03-14T17:10:25.857648Z",
          "shell.execute_reply.started": "2024-03-14T17:10:22.001043Z",
          "shell.execute_reply": "2024-03-14T17:10:25.856695Z"
        },
        "trusted": true,
        "colab": {
          "base_uri": "https://localhost:8080/",
          "height": 1000
        },
        "id": "7Pqb5steXBpu",
        "outputId": "3977a15a-2182-47bb-ce26-9a6456c3b82c"
      },
      "execution_count": 35,
      "outputs": [
        {
          "output_type": "display_data",
          "data": {
            "text/plain": [
              "<Figure size 1200x1600 with 64 Axes>"
            ],
            "image/png": "[encoded data removed]"
          },
          "metadata": {}
        }
      ]
    },
    {
      "cell_type": "markdown",
      "source": [
        "## PyTorch Model"
      ],
      "metadata": {
        "id": "5OA-vvonXBpv"
      }
    },
    {
      "cell_type": "code",
      "source": [
        "DEVICE = \"cuda\" if torch.cuda.is_available() else \"cpu\"\n",
        "DEVICE"
      ],
      "metadata": {
        "execution": {
          "iopub.status.busy": "2024-03-14T17:10:35.998221Z",
          "iopub.execute_input": "2024-03-14T17:10:35.998932Z",
          "iopub.status.idle": "2024-03-14T17:10:36.024937Z",
          "shell.execute_reply.started": "2024-03-14T17:10:35.998900Z",
          "shell.execute_reply": "2024-03-14T17:10:36.023871Z"
        },
        "trusted": true,
        "colab": {
          "base_uri": "https://localhost:8080/",
          "height": 36
        },
        "id": "c16ej7juXBpv",
        "outputId": "492b52bf-9234-4284-f608-57ae031a8140"
      },
      "execution_count": 36,
      "outputs": [
        {
          "output_type": "execute_result",
          "data": {
            "text/plain": [
              "'cpu'"
            ],
            "application/vnd.google.colaboratory.intrinsic+json": {
              "type": "string"
            }
          },
          "metadata": {},
          "execution_count": 36
        }
      ]
    },
    {
      "cell_type": "code",
      "source": [
        "class CustomDataset(Dataset):\n",
        "    def __init__(self, features, targets, augmentations=None):\n",
        "        self.features = features\n",
        "        self.targets = targets\n",
        "        self.augmentations = augmentations\n",
        "\n",
        "    def __len__(self):\n",
        "        return len(self.features)\n",
        "\n",
        "    def __getitem__(self, idx):\n",
        "        image = self.features[idx, :]\n",
        "        image = torch.tensor(image, dtype=torch.float32)\n",
        "        label = self.targets[idx]\n",
        "        label = torch.tensor(label, dtype=torch.long)\n",
        "        if self.augmentations is not None:\n",
        "            image = self.augmentations(image)\n",
        "        return image, label\n",
        ""
      ],
      "metadata": {
        "execution": {
          "iopub.status.busy": "2024-03-14T17:10:37.011207Z",
          "iopub.execute_input": "2024-03-14T17:10:37.011928Z",
          "iopub.status.idle": "2024-03-14T17:10:37.019004Z",
          "shell.execute_reply.started": "2024-03-14T17:10:37.011895Z",
          "shell.execute_reply": "2024-03-14T17:10:37.017960Z"
        },
        "trusted": true,
        "id": "SiuFjvksXBpw"
      },
      "execution_count": 37,
      "outputs": []
    },
    {
      "cell_type": "code",
      "source": [
        "train_dataset = CustomDataset(features=x_train.reshape(60000, 1, 32, 32), targets=y_train)\n",
        "valid_dataset = CustomDataset(features=x_valid.reshape(5000, 1, 32, 32), targets=y_valid)\n",
        "test_dataset = CustomDataset(features=x_test.reshape(5000, 1, 32, 32), targets=y_test)"
      ],
      "metadata": {
        "execution": {
          "iopub.status.busy": "2024-03-14T17:10:37.500748Z",
          "iopub.execute_input": "2024-03-14T17:10:37.501567Z",
          "iopub.status.idle": "2024-03-14T17:10:37.506663Z",
          "shell.execute_reply.started": "2024-03-14T17:10:37.501536Z",
          "shell.execute_reply": "2024-03-14T17:10:37.505619Z"
        },
        "trusted": true,
        "id": "Ce65bkHuXBpw"
      },
      "execution_count": 38,
      "outputs": []
    },
    {
      "cell_type": "code",
      "source": [
        "\"\"\"Helpful utility functions for generative deep models.\"\"\"\n",
        "\n",
        "def set_dataloaders(batch_size=64):\n",
        "    train_loader = DataLoader(train_dataset,\n",
        "                              batch_size=batch_size,\n",
        "                              shuffle=True)\n",
        "                              # drop_last=True  # this will drop the last batch if its size is not 32\n",
        "                              # pin_memory=True,\n",
        "                              # num_workers=os.cpu_count())\n",
        "    val_loader = DataLoader(valid_dataset,\n",
        "                            batch_size=batch_size,\n",
        "                            shuffle=False)\n",
        "                            # drop_last=True  # this will drop the last batch if its size is not 32\n",
        "                            # pin_memory=True,\n",
        "                            # num_workers=os.cpu_count())\n",
        "    test_loader = DataLoader(test_dataset,\n",
        "                             batch_size=batch_size,\n",
        "                             shuffle=False)\n",
        "                             # drop_last=True  # this will drop the last batch if its size is not 32\n",
        "                             # pin_memory=True,\n",
        "                             # num_workers=os.cpu_count())\n",
        "    return train_loader, val_loader, test_loader\n",
        "\n",
        "\n",
        "def set_all_seeds(seed):\n",
        "    random.seed(seed)\n",
        "    np.random.seed(seed)\n",
        "    torch.manual_seed(seed)\n",
        "    torch.cuda.manual_seed_all(seed)\n",
        "\n",
        "\n",
        "def set_deterministic():\n",
        "    if torch.cuda.is_available():\n",
        "        torch.backends.cudnn.benchmark = False\n",
        "        torch.backends.cudnn.deterministic = True\n",
        "        # if version of pytorch is =< 1.7, then use torch.set_deterministic(True)\n",
        "        # else use torch.use_deterministic_algorithms(True)\n",
        "        torch.use_deterministic_algorithms(True)\n",
        "\n",
        "\n",
        "def train_step_vae_v1(model, loss_fn, optimizer, dataloader, device,\n",
        "                      reconstruction_weight=1):\n",
        "    \"\"\"\n",
        "    Processes just one training step, ie, just one epoch.\n",
        "    To be used inside the main the training function.\n",
        "    \"\"\"\n",
        "    # initialize the total training loss value of this entire batch to 0\n",
        "    total_train_loss = 0\n",
        "    # initialize the total kl divergence of this entire batch to 0\n",
        "    total_kl_div = 0\n",
        "    # initialize the total reconstruction loss of this entire batch to 0\n",
        "    total_recon_loss = 0\n",
        "    # put the model in training mode\n",
        "    model.train()\n",
        "    # loop through the data loader batches\n",
        "    for X, _ in dataloader:\n",
        "        # we don't need y, as the model is tested on how accurately it can\n",
        "        # reproduce the original image\n",
        "        # send X the to device being used\n",
        "        # we assume that the model is on this device already\n",
        "        X = X.to(device)\n",
        "        # forward pass\n",
        "        encoded, z_mean, z_log_var, decoded = model(X)\n",
        "        # encoded is the latent space embedding\n",
        "        # z_mean and z_log_var are the sampling we do from a vae\n",
        "        # decoded is the reconstructed image\n",
        "        # ----------------------------------------------------------------\n",
        "        # calculate the loss and add it to the batch's training loss\n",
        "        # we now have 2 losses: reconstruction loss and kl divergence\n",
        "        # 1. kl divergence\n",
        "        # we sum over the latent space for the kl divergence term\n",
        "        kl_div = (-0.5)*torch.sum(1 + z_log_var - z_mean**2\n",
        "                                  - torch.exp(z_log_var), axis=1)\n",
        "        batch_size = kl_div.size(0)\n",
        "        kl_div = kl_div.mean()  # average over batch dimension\n",
        "        total_kl_div += kl_div\n",
        "        # 2. reconstruction loss\n",
        "        reconstruction_loss = loss_fn(decoded, X)\n",
        "        # sum over the pixels for the reconstruction loss\n",
        "        # pixelwise = reconstruction_loss.view(batch_size, -1).sum(axis=1)\n",
        "        # pixelwise = pixelwise.mean()  # average over batch dimension\n",
        "        # total_recon_loss += pixelwise\n",
        "        total_recon_loss += reconstruction_loss\n",
        "        # total loss\n",
        "        # the reconstruction_weight is a hyperparameter that tells how much should the\n",
        "        # total loss focus on reconstruction loss and how much on the kl divergence\n",
        "        # loss = reconstruction_weight*pixelwise + kl_div\n",
        "        loss = reconstruction_weight*reconstruction_loss + kl_div\n",
        "        total_train_loss += loss\n",
        "        # ----------------------------------------------------------------\n",
        "        # zero the gradients of the optimizer so that they don't accumulate\n",
        "        optimizer.zero_grad()\n",
        "        # do a backward pass on the loss\n",
        "        loss.backward()\n",
        "        # update the optimizer (ie, update the gradients)\n",
        "        optimizer.step()\n",
        "    # calculate the average training loss for this batch\n",
        "    total_train_loss /= len(dataloader)\n",
        "    total_kl_div /= len(dataloader)\n",
        "    total_recon_loss /= len(dataloader)\n",
        "    return total_train_loss, total_kl_div, total_recon_loss\n",
        "\n",
        "\n",
        "def valid_step_vae_v1(model, loss_fn, dataloader, device,\n",
        "                      reconstruction_weight=1):\n",
        "    \"\"\"\n",
        "    Processes just one validation step, ie, just one epoch.\n",
        "    To be used inside the main the training function.\n",
        "    \"\"\"\n",
        "    # initialize the total validation loss value of this entire batch to 0\n",
        "    total_valid_loss = 0\n",
        "    # initialize the total kl divergence of this entire batch to 0\n",
        "    total_kl_div = 0\n",
        "    # initialize the total reconstruction loss of this entire batch to 0\n",
        "    total_recon_loss = 0\n",
        "    # put the model in training mode\n",
        "    model.eval()\n",
        "    # turn on the inference context manager\n",
        "    with torch.inference_mode():\n",
        "        # loop through the data loader batches\n",
        "        for X, _ in dataloader:\n",
        "            # we don't need y, as the model is tested on how accurately it can\n",
        "            # reproduce the original image\n",
        "            # send X the to device being used\n",
        "            # we assume that the model is on this device already\n",
        "            X = X.to(device)\n",
        "            # forward pass\n",
        "            encoded, z_mean, z_log_var, decoded = model(X)\n",
        "            # encoded is the latent space embedding\n",
        "            # z_mean and z_log_var are the sampling we do from a vae\n",
        "            # decoded is the reconstructed image\n",
        "            # ----------------------------------------------------------------\n",
        "            # calculate the loss and add it to the batch's training loss\n",
        "            # we now have 2 losses: reconstruction loss and kl divergence\n",
        "            # 1. kl divergence\n",
        "            # we sum over the latent space for the kl divergence term\n",
        "            kl_div = (-0.5)*torch.sum(1 + z_log_var - z_mean**2\n",
        "                                      - torch.exp(z_log_var), axis=1)\n",
        "            batch_size = kl_div.size(0)\n",
        "            kl_div = kl_div.mean()  # average over batch dimension\n",
        "            total_kl_div += kl_div\n",
        "            # 2. reconstruction loss\n",
        "            reconstruction_loss = loss_fn(decoded, X)\n",
        "            # sum over the pixels for the reconstruction loss\n",
        "            # pixelwise = reconstruction_loss.view(batch_size, -1).sum(axis=1)\n",
        "            # pixelwise = pixelwise.mean()  # average over batch dimension\n",
        "            # total_recon_loss += pixelwise\n",
        "            total_recon_loss += reconstruction_loss\n",
        "            # total loss\n",
        "            # the reconstruction_weight is a hyperparameter that tells how much should the\n",
        "            # total loss focus on reconstruction loss and how much on the kl divergence\n",
        "            # loss = reconstruction_weight*pixelwise + kl_div\n",
        "            loss = reconstruction_weight*reconstruction_loss + kl_div\n",
        "            total_valid_loss += loss\n",
        "    # calculate the average validation loss for this batch\n",
        "    # if you do total_valid_loss /= len(dataloader), then it gives inplace operation error\n",
        "    # so better to write total_valid_loss = total_valid_loss/len(dataloader)\n",
        "    total_valid_loss = total_valid_loss/len(dataloader)\n",
        "    total_kl_div = total_kl_div/len(dataloader)\n",
        "    total_recon_loss = total_recon_loss/len(dataloader)\n",
        "    return total_valid_loss, total_kl_div, total_recon_loss\n",
        "\n",
        "\n",
        "def set_scheduler(scheduler, results, scheduler_on=\"val_total_loss\"):\n",
        "    \"\"\"Makes the neccessary updates to the scheduler.\"\"\"\n",
        "    if scheduler_on == \"val_total_loss\":\n",
        "        scheduler.step(results[\"val_total_loss\"][-1])\n",
        "    elif scheduler_on == \"val_kl_div\":\n",
        "        scheduler.step(results[\"val_kl_div\"][-1])\n",
        "    elif scheduler_on == \"val_reconstruction_loss\":\n",
        "        scheduler.step(results[\"val_reconstruction_loss\"][-1])\n",
        "    elif scheduler_on == \"train_total_loss\":\n",
        "        scheduler.step(results[\"train_total_loss\"][-1])\n",
        "    elif scheduler_on == \"train_kl_div\":\n",
        "        scheduler.step(results[\"train_kl_div\"][-1])\n",
        "    elif scheduler_on == \"train_reconstruction_loss\":\n",
        "        scheduler.step(results[\"train_reconstruction_loss\"][-1])\n",
        "    else:\n",
        "        raise ValueError(\"Invalid `scheduler_on` choice.\")\n",
        "    return scheduler\n",
        "\n",
        "\n",
        "def training_fn_v1(model, train_loader, val_loader, loss_fn, optimizer,\n",
        "                    epochs, device, scheduler=None, scheduler_on=\"val_total_loss\"):\n",
        "    \"\"\"\n",
        "    A variation of the main training_fn function for generative deep learning models.\n",
        "    \"\"\"\n",
        "    # create a results dictionary\n",
        "    results = {\n",
        "        \"train_total_loss\": [],\n",
        "        \"train_kl_div\": [],\n",
        "        \"train_reconstruction_loss\": [],\n",
        "        \"val_total_loss\": [],\n",
        "        \"val_kl_div\": [],\n",
        "        \"val_reconstruction_loss\": []\n",
        "    }\n",
        "    # loop through the training and validation steps for a number of epochs\n",
        "    for epoch in tqdm(range(epochs)):\n",
        "        # call the training function\n",
        "        train_loss, train_kl_div, train_recon_loss = train_step_vae_v1(model=model, loss_fn=loss_fn,\n",
        "                                                                       optimizer=optimizer,\n",
        "                                                                       dataloader=train_loader,\n",
        "                                                                       device=device)\n",
        "        # call the validation function\n",
        "        val_loss, val_kl_div, val_recon_loss = valid_step_vae_v1(model=model, loss_fn=loss_fn,\n",
        "                                                                 dataloader=val_loader,\n",
        "                                                                 device=device)\n",
        "        # update the results dictionary\n",
        "        results[\"train_total_loss\"].append(train_loss)\n",
        "        results[\"train_kl_div\"].append(train_kl_div)\n",
        "        results[\"train_reconstruction_loss\"].append(train_recon_loss)\n",
        "        results[\"val_total_loss\"].append(val_loss)\n",
        "        results[\"val_kl_div\"].append(val_kl_div)\n",
        "        results[\"val_reconstruction_loss\"].append(val_recon_loss)\n",
        "        if scheduler is not None:\n",
        "            # adjust the learning rate\n",
        "            scheduler = set_scheduler(scheduler, results, scheduler_on)\n",
        "        # print out what's happening\n",
        "        print(\n",
        "            f\"Epoch: {epoch+1} | Train_total_loss: {train_loss:.5f} | \"\n",
        "            f\"Train_kl_div: {train_kl_div:.5f} | Train_reconstruction_loss: {train_recon_loss:.5f} | \"\n",
        "            f\"Val_loss: {val_loss:.5f} | Val_kl_div: {val_kl_div:.5f} | \"\n",
        "            f\"Val_reconstruction_loss: {val_recon_loss:.5f}\"\n",
        "        )\n",
        "    return results\n",
        "\n",
        "\n",
        "def save_model_info(PATH, device, model, model_name, optimizer, optimizer_name,\n",
        "                    scheduler=None, scheduler_name=\"\"):\n",
        "    model.to(device)\n",
        "    torch.save(model.state_dict(), PATH/model_name)\n",
        "    torch.save(optimizer.state_dict(), PATH/optimizer_name)\n",
        "    if scheduler is not None:\n",
        "        torch.save(scheduler.state_dict(), PATH/scheduler_name)\n",
        "    print(\"Model info saved!\")\n",
        "\n",
        "\n",
        "def load_model_info(PATH, device, model, model_name, optimizer, optimizer_name,\n",
        "                    scheduler=None, scheduler_name=\"\"):\n",
        "    model.load_state_dict(torch.load(PATH/model_name))\n",
        "    model.to(device)\n",
        "    optimizer.load_state_dict(torch.load(PATH/optimizer_name))\n",
        "    if scheduler is not None:\n",
        "        scheduler.load_state_dict(torch.load(PATH/scheduler_name))\n",
        "    print(\"Model info loaded!\")\n",
        "\n",
        "\n",
        "def get_current_time():\n",
        "    \"\"\"Returns the current time in Toronto.\"\"\"\n",
        "    now = datetime.now(pytz.timezone('Canada/Eastern'))\n",
        "    current_time = now.strftime(\"%d_%m_%Y__%H_%M_%S\")\n",
        "    return current_time\n",
        "\n",
        "\n",
        "def visualize_results_vae(results):\n",
        "    \"\"\"Plot the training and validation total loss, kl divergence, and reconstruction loss\n",
        "       given the results dictionary\"\"\"\n",
        "    train_loss = results[\"train_total_loss\"]\n",
        "    train_kl_div = results[\"train_kl_div\"]\n",
        "    train_recon_loss = results[\"train_reconstruction_loss\"]\n",
        "    val_loss = results[\"val_total_loss\"]\n",
        "    val_kl_div = results[\"val_kl_div\"]\n",
        "    val_recon_loss = results[\"val_reconstruction_loss\"]\n",
        "    x = np.arange(len(train_loss))  # this is the number of epochs\n",
        "    fig, ax = plt.subplots(nrows=3, ncols=1, figsize=(5,14))\n",
        "    if type(train_loss[0]) == torch.Tensor:\n",
        "        if train_loss[0].get_device() != -1:  # this means tensor is on some gpu\n",
        "            for i in range(len(train_loss)):\n",
        "                train_loss[i] = train_loss[i].cpu().detach().numpy()\n",
        "                train_kl_div[i] = train_kl_div[i].cpu().detach().numpy()\n",
        "                train_recon_loss[i] = train_recon_loss[i].cpu().detach().numpy()\n",
        "                val_loss[i] = val_loss[i].cpu().detach().numpy()\n",
        "                val_kl_div[i] = val_kl_div[i].cpu().detach().numpy()\n",
        "                val_recon_loss[i] = val_recon_loss[i].cpu().detach().numpy()\n",
        "        elif train_loss[0].get_device() == -1:   # -1 means tensor is on a cpu\n",
        "            for i in range(len(train_loss)):\n",
        "                train_loss[i] = train_loss[i].detach().numpy()\n",
        "                train_kl_div[i] = train_kl_div[i].detach().numpy()\n",
        "                train_recon_loss[i] = train_recon_loss[i].detach().numpy()\n",
        "                val_loss[i] = val_loss[i].detach().numpy()\n",
        "                val_kl_div[i] = val_kl_div[i].detach().numpy()\n",
        "                val_recon_loss[i] = val_recon_loss[i].detach().numpy()\n",
        "    assert type(train_loss[0]) == np.ndarray, \"elements of train_loss are not numpy arrays\"\n",
        "    # ax[0].set_title(\"Loss\")\n",
        "    ax[0].set_xlabel(\"Epochs\")\n",
        "    ax[0].set_ylabel(\"Total Loss\")\n",
        "    ax[0].plot(x, train_loss, label=\"train\", color=\"orange\")\n",
        "    ax[0].plot(x, val_loss, label=\"val\", color=\"blue\")\n",
        "    ax[0].legend()\n",
        "    # ax[1].set_title(\"KL Divergence\")\n",
        "    ax[1].set_xlabel(\"Epochs\")\n",
        "    ax[1].set_ylabel(\"KL Divergence\")\n",
        "    ax[1].plot(x, train_kl_div, label=\"train\", color=\"orange\")\n",
        "    ax[1].plot(x, val_kl_div, label=\"val\", color=\"blue\")\n",
        "    ax[1].legend()\n",
        "    # ax[2].set_title(\"Reconstruction loss\")\n",
        "    ax[2].set_xlabel(\"Epochs\")\n",
        "    ax[2].set_ylabel(\"Reconstruction loss\")\n",
        "    ax[2].plot(x, train_recon_loss, label=\"train\", color=\"orange\")\n",
        "    ax[2].plot(x, val_recon_loss, label=\"val\", color=\"blue\")\n",
        "    ax[2].legend()\n",
        "    plt.show()\n",
        "\n",
        ""
      ],
      "metadata": {
        "execution": {
          "iopub.status.busy": "2024-03-14T17:52:37.366608Z",
          "iopub.execute_input": "2024-03-14T17:52:37.366986Z",
          "iopub.status.idle": "2024-03-14T17:52:37.412846Z",
          "shell.execute_reply.started": "2024-03-14T17:52:37.366957Z",
          "shell.execute_reply": "2024-03-14T17:52:37.411865Z"
        },
        "trusted": true,
        "id": "u-ND81qCXBpw"
      },
      "execution_count": 39,
      "outputs": []
    },
    {
      "cell_type": "code",
      "source": [
        "train_loader, val_loader, test_loader = set_dataloaders(128)"
      ],
      "metadata": {
        "execution": {
          "iopub.status.busy": "2024-03-14T17:10:37.952950Z",
          "iopub.execute_input": "2024-03-14T17:10:37.953233Z",
          "iopub.status.idle": "2024-03-14T17:10:37.957409Z",
          "shell.execute_reply.started": "2024-03-14T17:10:37.953207Z",
          "shell.execute_reply": "2024-03-14T17:10:37.956532Z"
        },
        "trusted": true,
        "id": "mItkYuH0XBpw"
      },
      "execution_count": 40,
      "outputs": []
    },
    {
      "cell_type": "code",
      "source": [
        "def fn():\n",
        "    for X, y in train_loader:\n",
        "        print(X.shape, y.shape)\n",
        "        break\n",
        "    pass\n",
        "\n",
        "fn()"
      ],
      "metadata": {
        "execution": {
          "iopub.status.busy": "2024-03-14T17:10:38.315351Z",
          "iopub.execute_input": "2024-03-14T17:10:38.315690Z",
          "iopub.status.idle": "2024-03-14T17:10:38.381277Z",
          "shell.execute_reply.started": "2024-03-14T17:10:38.315664Z",
          "shell.execute_reply": "2024-03-14T17:10:38.380353Z"
        },
        "trusted": true,
        "colab": {
          "base_uri": "https://localhost:8080/"
        },
        "id": "lUsh6UsGXBpw",
        "outputId": "e3c3fc8c-f431-4808-cafd-655a2296e886"
      },
      "execution_count": 41,
      "outputs": [
        {
          "output_type": "stream",
          "name": "stdout",
          "text": [
            "torch.Size([128, 1, 32, 32]) torch.Size([128])\n"
          ]
        }
      ]
    },
    {
      "cell_type": "markdown",
      "source": [
        "**Key equations used in the Variational Autoencoder**\n",
        "\n",
        "1. Sampling from a VAE\n",
        "    - $$z = \\mu + \\sigma \\cdot \\epsilon$$\n",
        "        - where $\\epsilon$ is taken from standard multivariate normal distribution, ie, each component of $\\epsilon$ is taken from $\\mathcal{N(0,1)}$, which is the normal distribution with mean=0 and standard deviation=1.\n",
        "\n",
        "2. Log-Var trick\n",
        "    - We apply this trick to the above sampling\n",
        "    - $$z = \\mu + e^{\\frac{1}{2} \\text{log}(\\sigma^2)} \\cdot \\epsilon$$\n",
        "\n",
        "3. VAE Loss Function (ELBO - Evidence Lower Bound)\n",
        "    - ELBO consists of 2 terms, both of which we need to minimize:\n",
        "        1. Reconstruction term (squared error loss)\n",
        "            - $$ \\mathcal{L_1} = \\Vert \\mathbf{x} - \\text{Dec}(\\text{Enc}(\\mathbf{x})) \\Vert_2^2 = \\sum_{\\text{pixels}} (x_i - x_i^{\\prime})^2 $$\n",
        "                - where $\\text{Enc}$ represents the encoder and $\\text{Dec}$ represents the decoder.\n",
        "                - where $\\text{Enc}(\\mathbf{x})$ is the output of the Encoder and $\\text{Dec}(\\text{Enc}(\\mathbf{x}))$ is the output of the decoder, which is the reconstructed image.\n",
        "                - where we sum over the pixels for the reconstruction loss.- where we sum over the pixels for the reconstruction loss.\n",
        "        2. Kullback-Leibler divergence term\n",
        "            - $$ \\mathcal{L_2} = D_{KL}[\\mathcal{N(\\mu,\\sigma)} || \\mathcal{N(0,1)}] = -\\frac{1}{2}\\sum_{\\text{latent space}}(1 + \\text{log}(\\sigma^2) - \\mu^2 - \\sigma^2) $$\n",
        "            - We sum over the latent space for the KL divergence term.\n",
        "    - Total loss $$ \\mathcal{L} = \\alpha \\cdot \\mathcal{L_1} + \\mathcal{L_2} $$\n",
        "        - where $\\alpha$ is the reconstruction term weight (hyper)parameter."
      ],
      "metadata": {
        "id": "2Ce-TZTAXBpw"
      }
    },
    {
      "cell_type": "code",
      "source": [
        "class Sampling1(nn.Module):\n",
        "    def __init__(self):\n",
        "        super(Sampling1, self).__init__()\n",
        "\n",
        "    def forward(self, inputs):\n",
        "        z_mean, z_log_var = inputs\n",
        "        eps_shape = z_mean.shape\n",
        "        epsilon = torch.normal(mean=torch.zeros(eps_shape),\n",
        "                               std=torch.ones(eps_shape)).to(DEVICE)\n",
        "        z_std = torch.exp(0.5 * z_log_var).to(DEVICE)\n",
        "        z = z_mean + z_std * epsilon\n",
        "        z = z.to(DEVICE)\n",
        "        return z\n",
        "\n",
        "\n",
        "class Encoder2(nn.Module):\n",
        "    def __init__(self):\n",
        "        super(Encoder2, self).__init__()\n",
        "        self.conv1 = nn.Conv2d(in_channels=1, out_channels=32, kernel_size=(3,3),\n",
        "                               stride=2, padding=(1,1))\n",
        "        self.conv2 = nn.Conv2d(in_channels=32, out_channels=64, kernel_size=(3,3),\n",
        "                               stride=2, padding=(1,1))\n",
        "        self.conv3 = nn.Conv2d(in_channels=64, out_channels=128, kernel_size=(3,3),\n",
        "                               stride=2, padding=(1,1))\n",
        "        self.flatten = nn.Flatten()\n",
        "        self.z_mean = nn.Linear(in_features=2048, out_features=2)     # 2 is the embedding dimension\n",
        "        self.z_log_var = nn.Linear(in_features=2048, out_features=2)  # 2 is the embedding dimension\n",
        "        self.relu = nn.ReLU()\n",
        "\n",
        "    def forward(self, x):\n",
        "        x = self.relu(self.conv1(x))\n",
        "        x = self.relu(self.conv2(x))\n",
        "        x = self.relu(self.conv3(x))\n",
        "        x = self.flatten(x)\n",
        "        z_mean = self.z_mean(x)\n",
        "        z_log_var = self.z_log_var(x)\n",
        "        sampling = Sampling1()\n",
        "        z = sampling([z_mean, z_log_var])\n",
        "        return z, z_mean, z_log_var\n",
        ""
      ],
      "metadata": {
        "execution": {
          "iopub.status.busy": "2024-03-14T17:10:39.787483Z",
          "iopub.execute_input": "2024-03-14T17:10:39.787837Z",
          "iopub.status.idle": "2024-03-14T17:10:39.799617Z",
          "shell.execute_reply.started": "2024-03-14T17:10:39.787808Z",
          "shell.execute_reply": "2024-03-14T17:10:39.798668Z"
        },
        "trusted": true,
        "id": "vJ8HCatvXBp3"
      },
      "execution_count": 42,
      "outputs": []
    },
    {
      "cell_type": "code",
      "source": [
        "def fn():\n",
        "    model = Encoder2().to(DEVICE)\n",
        "    for X,y in train_loader:\n",
        "        X = X.to(DEVICE)\n",
        "        y = y.to(DEVICE)\n",
        "        print(\"-------------\\t\", \"torch.Size([ N, C, H,  W])\")\n",
        "        print(\"Input shape:\\t\", X.shape)\n",
        "        model(X)\n",
        "        break\n",
        "    pass\n",
        "\n",
        "fn()"
      ],
      "metadata": {
        "execution": {
          "iopub.status.busy": "2024-03-14T17:10:40.183001Z",
          "iopub.execute_input": "2024-03-14T17:10:40.183842Z",
          "iopub.status.idle": "2024-03-14T17:10:40.938420Z",
          "shell.execute_reply.started": "2024-03-14T17:10:40.183810Z",
          "shell.execute_reply": "2024-03-14T17:10:40.937392Z"
        },
        "trusted": true,
        "colab": {
          "base_uri": "https://localhost:8080/"
        },
        "id": "hY8PBkFfXBp4",
        "outputId": "6a511d23-58df-4ef5-e2ea-9e0253908829"
      },
      "execution_count": 43,
      "outputs": [
        {
          "output_type": "stream",
          "name": "stdout",
          "text": [
            "-------------\t torch.Size([ N, C, H,  W])\n",
            "Input shape:\t torch.Size([128, 1, 32, 32])\n"
          ]
        }
      ]
    },
    {
      "cell_type": "code",
      "source": [
        "def fn():\n",
        "    model = Encoder2().to(DEVICE)\n",
        "    return summary(model=model, input_size=(1,1,32,32),\n",
        "            col_names=[\"input_size\", \"output_size\", \"num_params\", \"trainable\"],\n",
        "            col_width=20, row_settings=[\"var_names\"])\n",
        "\n",
        "fn()"
      ],
      "metadata": {
        "execution": {
          "iopub.status.busy": "2024-03-14T17:10:40.940364Z",
          "iopub.execute_input": "2024-03-14T17:10:40.940826Z",
          "iopub.status.idle": "2024-03-14T17:10:40.989809Z",
          "shell.execute_reply.started": "2024-03-14T17:10:40.940792Z",
          "shell.execute_reply": "2024-03-14T17:10:40.988945Z"
        },
        "trusted": true,
        "colab": {
          "base_uri": "https://localhost:8080/"
        },
        "id": "J4k-517sXBp4",
        "outputId": "301063c7-8d25-4e52-9842-039850c7a206"
      },
      "execution_count": 44,
      "outputs": [
        {
          "output_type": "execute_result",
          "data": {
            "text/plain": [
              "========================================================================================================================\n",
              "Layer (type (var_name))                  Input Shape          Output Shape         Param #              Trainable\n",
              "========================================================================================================================\n",
              "Encoder2 (Encoder2)                      [1, 1, 32, 32]       [1, 2]               --                   True\n",
              "├─Conv2d (conv1)                         [1, 1, 32, 32]       [1, 32, 16, 16]      320                  True\n",
              "├─ReLU (relu)                            [1, 32, 16, 16]      [1, 32, 16, 16]      --                   --\n",
              "├─Conv2d (conv2)                         [1, 32, 16, 16]      [1, 64, 8, 8]        18,496               True\n",
              "├─ReLU (relu)                            [1, 64, 8, 8]        [1, 64, 8, 8]        --                   --\n",
              "├─Conv2d (conv3)                         [1, 64, 8, 8]        [1, 128, 4, 4]       73,856               True\n",
              "├─ReLU (relu)                            [1, 128, 4, 4]       [1, 128, 4, 4]       --                   --\n",
              "├─Flatten (flatten)                      [1, 128, 4, 4]       [1, 2048]            --                   --\n",
              "├─Linear (z_mean)                        [1, 2048]            [1, 2]               4,098                True\n",
              "├─Linear (z_log_var)                     [1, 2048]            [1, 2]               4,098                True\n",
              "========================================================================================================================\n",
              "Total params: 100,868\n",
              "Trainable params: 100,868\n",
              "Non-trainable params: 0\n",
              "Total mult-adds (M): 2.46\n",
              "========================================================================================================================\n",
              "Input size (MB): 0.00\n",
              "Forward/backward pass size (MB): 0.11\n",
              "Params size (MB): 0.40\n",
              "Estimated Total Size (MB): 0.52\n",
              "========================================================================================================================"
            ]
          },
          "metadata": {},
          "execution_count": 44
        }
      ]
    },
    {
      "cell_type": "code",
      "source": [
        "class Decoder2(nn.Module):\n",
        "    def __init__(self):\n",
        "        super(Decoder2, self).__init__()\n",
        "        self.lin1 = nn.Linear(in_features=2, out_features=2048)\n",
        "        self.convt1 = nn.ConvTranspose2d(in_channels=128, out_channels=128, kernel_size=(3,3),\n",
        "                                         stride=(2,2), padding=(1,1), output_padding=(1,1))\n",
        "        self.convt2 = nn.ConvTranspose2d(in_channels=128, out_channels=64, kernel_size=(3,3),\n",
        "                                         stride=(2,2), padding=(1,1), output_padding=(1,1))\n",
        "        self.convt3 = nn.ConvTranspose2d(in_channels=64, out_channels=32, kernel_size=(3,3),\n",
        "                                         stride=(2,2), padding=(1,1), output_padding=(1,1))\n",
        "        self.conv1 = nn.Conv2d(in_channels=32, out_channels=1, kernel_size=(3,3), stride=1,\n",
        "                               padding=\"same\")\n",
        "        self.relu = nn.ReLU()\n",
        "        self.sigmoid = nn.Sigmoid()\n",
        "\n",
        "    def forward(self, x):\n",
        "        x = self.lin1(x)\n",
        "        x = x.view(-1, 128, 4, 4)\n",
        "        x = self.relu(self.convt1(x))\n",
        "        x = self.relu(self.convt2(x))\n",
        "        x = self.relu(self.convt3(x))\n",
        "        x = self.sigmoid(self.conv1(x))\n",
        "        return x\n",
        ""
      ],
      "metadata": {
        "execution": {
          "iopub.status.busy": "2024-03-14T17:10:40.991052Z",
          "iopub.execute_input": "2024-03-14T17:10:40.991412Z",
          "iopub.status.idle": "2024-03-14T17:10:41.001837Z",
          "shell.execute_reply.started": "2024-03-14T17:10:40.991365Z",
          "shell.execute_reply": "2024-03-14T17:10:41.000919Z"
        },
        "trusted": true,
        "id": "fMt7b3AhXBp4"
      },
      "execution_count": 45,
      "outputs": []
    },
    {
      "cell_type": "code",
      "source": [
        "def fn():\n",
        "    model = Decoder2().to(DEVICE)\n",
        "    return summary(model=model, input_size=(1,2),\n",
        "            col_names=[\"input_size\", \"output_size\", \"num_params\", \"trainable\"],\n",
        "            col_width=20, row_settings=[\"var_names\"])\n",
        "\n",
        "fn()"
      ],
      "metadata": {
        "execution": {
          "iopub.status.busy": "2024-03-14T17:10:41.079993Z",
          "iopub.execute_input": "2024-03-14T17:10:41.080697Z",
          "iopub.status.idle": "2024-03-14T17:10:41.146527Z",
          "shell.execute_reply.started": "2024-03-14T17:10:41.080670Z",
          "shell.execute_reply": "2024-03-14T17:10:41.145623Z"
        },
        "trusted": true,
        "colab": {
          "base_uri": "https://localhost:8080/"
        },
        "id": "AoXREnk9XBp4",
        "outputId": "b532a4b0-495c-4111-cf02-b2484190102f"
      },
      "execution_count": 46,
      "outputs": [
        {
          "output_type": "execute_result",
          "data": {
            "text/plain": [
              "========================================================================================================================\n",
              "Layer (type (var_name))                  Input Shape          Output Shape         Param #              Trainable\n",
              "========================================================================================================================\n",
              "Decoder2 (Decoder2)                      [1, 2]               [1, 1, 32, 32]       --                   True\n",
              "├─Linear (lin1)                          [1, 2]               [1, 2048]            6,144                True\n",
              "├─ConvTranspose2d (convt1)               [1, 128, 4, 4]       [1, 128, 8, 8]       147,584              True\n",
              "├─ReLU (relu)                            [1, 128, 8, 8]       [1, 128, 8, 8]       --                   --\n",
              "├─ConvTranspose2d (convt2)               [1, 128, 8, 8]       [1, 64, 16, 16]      73,792               True\n",
              "├─ReLU (relu)                            [1, 64, 16, 16]      [1, 64, 16, 16]      --                   --\n",
              "├─ConvTranspose2d (convt3)               [1, 64, 16, 16]      [1, 32, 32, 32]      18,464               True\n",
              "├─ReLU (relu)                            [1, 32, 32, 32]      [1, 32, 32, 32]      --                   --\n",
              "├─Conv2d (conv1)                         [1, 32, 32, 32]      [1, 1, 32, 32]       289                  True\n",
              "├─Sigmoid (sigmoid)                      [1, 1, 32, 32]       [1, 1, 32, 32]       --                   --\n",
              "========================================================================================================================\n",
              "Total params: 246,273\n",
              "Trainable params: 246,273\n",
              "Non-trainable params: 0\n",
              "Total mult-adds (M): 47.55\n",
              "========================================================================================================================\n",
              "Input size (MB): 0.00\n",
              "Forward/backward pass size (MB): 0.48\n",
              "Params size (MB): 0.99\n",
              "Estimated Total Size (MB): 1.47\n",
              "========================================================================================================================"
            ]
          },
          "metadata": {},
          "execution_count": 46
        }
      ]
    },
    {
      "cell_type": "code",
      "source": [
        "def fn():\n",
        "    encoder = Encoder2().to(DEVICE)\n",
        "    decoder = Decoder2().to(DEVICE)\n",
        "    for X,y in train_loader:\n",
        "        X = X.to(DEVICE)\n",
        "        y = y.to(DEVICE)\n",
        "        print(\"-------------\\t\", \"torch.Size([ N, C, H,  W])\")\n",
        "        print(\"Input shape:\\t\", X.shape)\n",
        "        z, z_mean, z_log_var = encoder(X)\n",
        "        print(\"Encoder shape:\\t\", z.shape)\n",
        "        dec_output = decoder(z)\n",
        "        print(\"Decoder shape:\\t\", dec_output.shape)\n",
        "        break\n",
        "    pass\n",
        "\n",
        "fn()"
      ],
      "metadata": {
        "execution": {
          "iopub.status.busy": "2024-03-14T17:10:41.760948Z",
          "iopub.execute_input": "2024-03-14T17:10:41.761285Z",
          "iopub.status.idle": "2024-03-14T17:10:41.823588Z",
          "shell.execute_reply.started": "2024-03-14T17:10:41.761259Z",
          "shell.execute_reply": "2024-03-14T17:10:41.822687Z"
        },
        "trusted": true,
        "colab": {
          "base_uri": "https://localhost:8080/"
        },
        "id": "BAf90bV0XBp4",
        "outputId": "e79b7345-7d2a-4670-b5e7-4f566e95daa8"
      },
      "execution_count": 47,
      "outputs": [
        {
          "output_type": "stream",
          "name": "stdout",
          "text": [
            "-------------\t torch.Size([ N, C, H,  W])\n",
            "Input shape:\t torch.Size([128, 1, 32, 32])\n",
            "Encoder shape:\t torch.Size([128, 2])\n",
            "Decoder shape:\t torch.Size([128, 1, 32, 32])\n"
          ]
        }
      ]
    },
    {
      "cell_type": "code",
      "source": [
        "class VAE2(nn.Module):\n",
        "    def __init__(self, encoder, decoder):\n",
        "        super(VAE2, self).__init__()\n",
        "        self.encoder = encoder\n",
        "        self.decoder = decoder\n",
        "\n",
        "    def forward(self, x):\n",
        "        encoded, z_mean, z_log_var = self.encoder(x)\n",
        "        decoded = self.decoder(encoded)\n",
        "        return encoded, z_mean, z_log_var, decoded\n",
        ""
      ],
      "metadata": {
        "execution": {
          "iopub.status.busy": "2024-03-14T17:10:42.410041Z",
          "iopub.execute_input": "2024-03-14T17:10:42.410412Z",
          "iopub.status.idle": "2024-03-14T17:10:42.416440Z",
          "shell.execute_reply.started": "2024-03-14T17:10:42.410370Z",
          "shell.execute_reply": "2024-03-14T17:10:42.415359Z"
        },
        "trusted": true,
        "id": "rXsWD0GmXBp4"
      },
      "execution_count": 48,
      "outputs": []
    },
    {
      "cell_type": "code",
      "source": [
        "def fn():\n",
        "    model = VAE2(Encoder2(), Decoder2()).to(DEVICE)\n",
        "    for X,y in train_loader:\n",
        "        X = X.to(DEVICE)\n",
        "        y = y.to(DEVICE)\n",
        "        print(\"-------------\\t\", \"torch.Size([ N, C, H,  W])\")\n",
        "        print(\"Input shape:\\t\", X.shape)\n",
        "        z, z_mean, z_log_var, recon_img = model(X)\n",
        "        print(\"Output shape:\\t\", recon_img.shape)\n",
        "        break\n",
        "    pass\n",
        "\n",
        "fn()"
      ],
      "metadata": {
        "execution": {
          "iopub.status.busy": "2024-03-14T17:10:43.443605Z",
          "iopub.execute_input": "2024-03-14T17:10:43.443964Z",
          "iopub.status.idle": "2024-03-14T17:10:43.467836Z",
          "shell.execute_reply.started": "2024-03-14T17:10:43.443936Z",
          "shell.execute_reply": "2024-03-14T17:10:43.466922Z"
        },
        "trusted": true,
        "colab": {
          "base_uri": "https://localhost:8080/"
        },
        "id": "sk4sKcbBXBp4",
        "outputId": "bc73cdce-23f4-4ecf-a765-b5e59b77aeba"
      },
      "execution_count": 49,
      "outputs": [
        {
          "output_type": "stream",
          "name": "stdout",
          "text": [
            "-------------\t torch.Size([ N, C, H,  W])\n",
            "Input shape:\t torch.Size([128, 1, 32, 32])\n",
            "Output shape:\t torch.Size([128, 1, 32, 32])\n"
          ]
        }
      ]
    },
    {
      "cell_type": "code",
      "source": [
        "def fn():\n",
        "    model = VAE2(Encoder2(), Decoder2()).to(DEVICE)\n",
        "    return summary(model=model, input_size=(1,1,32,32),\n",
        "            col_names=[\"input_size\", \"output_size\", \"num_params\", \"trainable\"],\n",
        "            col_width=20, row_settings=[\"var_names\"])\n",
        "\n",
        "fn()"
      ],
      "metadata": {
        "execution": {
          "iopub.status.busy": "2024-03-14T17:10:44.236703Z",
          "iopub.execute_input": "2024-03-14T17:10:44.237065Z",
          "iopub.status.idle": "2024-03-14T17:10:44.257619Z",
          "shell.execute_reply.started": "2024-03-14T17:10:44.237036Z",
          "shell.execute_reply": "2024-03-14T17:10:44.256750Z"
        },
        "trusted": true,
        "colab": {
          "base_uri": "https://localhost:8080/"
        },
        "id": "5wHmYNnIXBp4",
        "outputId": "448e008d-0d17-4131-91b9-a0405a8a7420"
      },
      "execution_count": 50,
      "outputs": [
        {
          "output_type": "execute_result",
          "data": {
            "text/plain": [
              "========================================================================================================================\n",
              "Layer (type (var_name))                  Input Shape          Output Shape         Param #              Trainable\n",
              "========================================================================================================================\n",
              "VAE2 (VAE2)                              [1, 1, 32, 32]       [1, 2]               --                   True\n",
              "├─Encoder2 (encoder)                     [1, 1, 32, 32]       [1, 2]               --                   True\n",
              "│    └─Conv2d (conv1)                    [1, 1, 32, 32]       [1, 32, 16, 16]      320                  True\n",
              "│    └─ReLU (relu)                       [1, 32, 16, 16]      [1, 32, 16, 16]      --                   --\n",
              "│    └─Conv2d (conv2)                    [1, 32, 16, 16]      [1, 64, 8, 8]        18,496               True\n",
              "│    └─ReLU (relu)                       [1, 64, 8, 8]        [1, 64, 8, 8]        --                   --\n",
              "│    └─Conv2d (conv3)                    [1, 64, 8, 8]        [1, 128, 4, 4]       73,856               True\n",
              "│    └─ReLU (relu)                       [1, 128, 4, 4]       [1, 128, 4, 4]       --                   --\n",
              "│    └─Flatten (flatten)                 [1, 128, 4, 4]       [1, 2048]            --                   --\n",
              "│    └─Linear (z_mean)                   [1, 2048]            [1, 2]               4,098                True\n",
              "│    └─Linear (z_log_var)                [1, 2048]            [1, 2]               4,098                True\n",
              "├─Decoder2 (decoder)                     [1, 2]               [1, 1, 32, 32]       --                   True\n",
              "│    └─Linear (lin1)                     [1, 2]               [1, 2048]            6,144                True\n",
              "│    └─ConvTranspose2d (convt1)          [1, 128, 4, 4]       [1, 128, 8, 8]       147,584              True\n",
              "│    └─ReLU (relu)                       [1, 128, 8, 8]       [1, 128, 8, 8]       --                   --\n",
              "│    └─ConvTranspose2d (convt2)          [1, 128, 8, 8]       [1, 64, 16, 16]      73,792               True\n",
              "│    └─ReLU (relu)                       [1, 64, 16, 16]      [1, 64, 16, 16]      --                   --\n",
              "│    └─ConvTranspose2d (convt3)          [1, 64, 16, 16]      [1, 32, 32, 32]      18,464               True\n",
              "│    └─ReLU (relu)                       [1, 32, 32, 32]      [1, 32, 32, 32]      --                   --\n",
              "│    └─Conv2d (conv1)                    [1, 32, 32, 32]      [1, 1, 32, 32]       289                  True\n",
              "│    └─Sigmoid (sigmoid)                 [1, 1, 32, 32]       [1, 1, 32, 32]       --                   --\n",
              "========================================================================================================================\n",
              "Total params: 347,141\n",
              "Trainable params: 347,141\n",
              "Non-trainable params: 0\n",
              "Total mult-adds (M): 50.00\n",
              "========================================================================================================================\n",
              "Input size (MB): 0.00\n",
              "Forward/backward pass size (MB): 0.60\n",
              "Params size (MB): 1.39\n",
              "Estimated Total Size (MB): 1.99\n",
              "========================================================================================================================"
            ]
          },
          "metadata": {},
          "execution_count": 50
        }
      ]
    },
    {
      "cell_type": "code",
      "source": [
        "train_loader, val_loader, test_loader = set_dataloaders(128)\n",
        "\n",
        "vae2 = VAE2(Encoder2(), Decoder2()).to(DEVICE)\n",
        "# loss_fn = nn.BCELoss()\n",
        "loss_fn = nn.MSELoss()\n",
        "optimizer = optim.Adam(params=vae2.parameters(), lr=3e-4)\n",
        "\n",
        "results = training_fn_v1(model=vae2, train_loader=train_loader, val_loader=val_loader,\n",
        "                         loss_fn=loss_fn, optimizer=optimizer, epochs=11, device=DEVICE)"
      ],
      "metadata": {
        "execution": {
          "iopub.status.busy": "2024-03-14T17:47:41.658809Z",
          "iopub.execute_input": "2024-03-14T17:47:41.659552Z",
          "iopub.status.idle": "2024-03-14T17:48:20.732849Z",
          "shell.execute_reply.started": "2024-03-14T17:47:41.659519Z",
          "shell.execute_reply": "2024-03-14T17:48:20.731991Z"
        },
        "trusted": true,
        "id": "VX8WLZvtXBp4",
        "outputId": "d7e4287b-490a-467f-90a0-9f5d63b730eb"
      },
      "execution_count": null,
      "outputs": [
        {
          "name": "stderr",
          "text": "  9%|▉         | 1/11 [00:03<00:35,  3.52s/it]",
          "output_type": "stream"
        },
        {
          "name": "stdout",
          "text": "Epoch: 1 | Train_total_loss: 0.07591 | Train_kl_div: 0.00002 | Train_reconstruction_loss: 0.07589 | Val_loss: 0.06663 | Val_kl_div: 0.00001 | Val_reconstruction_loss: 0.06662\n",
          "output_type": "stream"
        },
        {
          "name": "stderr",
          "text": " 18%|█▊        | 2/11 [00:07<00:31,  3.53s/it]",
          "output_type": "stream"
        },
        {
          "name": "stdout",
          "text": "Epoch: 2 | Train_total_loss: 0.06678 | Train_kl_div: 0.00000 | Train_reconstruction_loss: 0.06678 | Val_loss: 0.06645 | Val_kl_div: 0.00000 | Val_reconstruction_loss: 0.06645\n",
          "output_type": "stream"
        },
        {
          "name": "stderr",
          "text": " 27%|██▋       | 3/11 [00:10<00:28,  3.55s/it]",
          "output_type": "stream"
        },
        {
          "name": "stdout",
          "text": "Epoch: 3 | Train_total_loss: 0.06673 | Train_kl_div: 0.00000 | Train_reconstruction_loss: 0.06673 | Val_loss: 0.06649 | Val_kl_div: 0.00000 | Val_reconstruction_loss: 0.06649\n",
          "output_type": "stream"
        },
        {
          "name": "stderr",
          "text": " 36%|███▋      | 4/11 [00:14<00:24,  3.55s/it]",
          "output_type": "stream"
        },
        {
          "name": "stdout",
          "text": "Epoch: 4 | Train_total_loss: 0.06671 | Train_kl_div: 0.00000 | Train_reconstruction_loss: 0.06671 | Val_loss: 0.06637 | Val_kl_div: 0.00000 | Val_reconstruction_loss: 0.06637\n",
          "output_type": "stream"
        },
        {
          "name": "stderr",
          "text": " 45%|████▌     | 5/11 [00:17<00:21,  3.56s/it]",
          "output_type": "stream"
        },
        {
          "name": "stdout",
          "text": "Epoch: 5 | Train_total_loss: 0.06670 | Train_kl_div: 0.00000 | Train_reconstruction_loss: 0.06670 | Val_loss: 0.06642 | Val_kl_div: 0.00000 | Val_reconstruction_loss: 0.06642\n",
          "output_type": "stream"
        },
        {
          "name": "stderr",
          "text": " 55%|█████▍    | 6/11 [00:21<00:17,  3.56s/it]",
          "output_type": "stream"
        },
        {
          "name": "stdout",
          "text": "Epoch: 6 | Train_total_loss: 0.06669 | Train_kl_div: 0.00000 | Train_reconstruction_loss: 0.06669 | Val_loss: 0.06640 | Val_kl_div: 0.00000 | Val_reconstruction_loss: 0.06640\n",
          "output_type": "stream"
        },
        {
          "name": "stderr",
          "text": " 64%|██████▎   | 7/11 [00:24<00:14,  3.56s/it]",
          "output_type": "stream"
        },
        {
          "name": "stdout",
          "text": "Epoch: 7 | Train_total_loss: 0.06670 | Train_kl_div: 0.00000 | Train_reconstruction_loss: 0.06670 | Val_loss: 0.06644 | Val_kl_div: 0.00000 | Val_reconstruction_loss: 0.06644\n",
          "output_type": "stream"
        },
        {
          "name": "stderr",
          "text": " 73%|███████▎  | 8/11 [00:28<00:10,  3.55s/it]",
          "output_type": "stream"
        },
        {
          "name": "stdout",
          "text": "Epoch: 8 | Train_total_loss: 0.06669 | Train_kl_div: 0.00000 | Train_reconstruction_loss: 0.06669 | Val_loss: 0.06640 | Val_kl_div: 0.00000 | Val_reconstruction_loss: 0.06640\n",
          "output_type": "stream"
        },
        {
          "name": "stderr",
          "text": " 82%|████████▏ | 9/11 [00:31<00:07,  3.55s/it]",
          "output_type": "stream"
        },
        {
          "name": "stdout",
          "text": "Epoch: 9 | Train_total_loss: 0.06670 | Train_kl_div: 0.00000 | Train_reconstruction_loss: 0.06670 | Val_loss: 0.06639 | Val_kl_div: 0.00000 | Val_reconstruction_loss: 0.06639\n",
          "output_type": "stream"
        },
        {
          "name": "stderr",
          "text": " 91%|█████████ | 10/11 [00:35<00:03,  3.56s/it]",
          "output_type": "stream"
        },
        {
          "name": "stdout",
          "text": "Epoch: 10 | Train_total_loss: 0.06670 | Train_kl_div: 0.00000 | Train_reconstruction_loss: 0.06670 | Val_loss: 0.06642 | Val_kl_div: 0.00000 | Val_reconstruction_loss: 0.06642\n",
          "output_type": "stream"
        },
        {
          "name": "stderr",
          "text": "100%|██████████| 11/11 [00:39<00:00,  3.55s/it]",
          "output_type": "stream"
        },
        {
          "name": "stdout",
          "text": "Epoch: 11 | Train_total_loss: 0.06668 | Train_kl_div: 0.00000 | Train_reconstruction_loss: 0.06668 | Val_loss: 0.06637 | Val_kl_div: 0.00000 | Val_reconstruction_loss: 0.06637\n",
          "output_type": "stream"
        },
        {
          "name": "stderr",
          "text": "\n",
          "output_type": "stream"
        }
      ]
    },
    {
      "cell_type": "code",
      "source": [
        "visualize_results_vae(results)"
      ],
      "metadata": {
        "execution": {
          "iopub.status.busy": "2024-03-14T17:52:45.025752Z",
          "iopub.execute_input": "2024-03-14T17:52:45.026725Z",
          "iopub.status.idle": "2024-03-14T17:52:45.546652Z",
          "shell.execute_reply.started": "2024-03-14T17:52:45.026683Z",
          "shell.execute_reply": "2024-03-14T17:52:45.545717Z"
        },
        "trusted": true,
        "id": "YJfmauiAXBp5",
        "outputId": "d2545e46-be88-458b-de1c-f89dc474f223"
      },
      "execution_count": null,
      "outputs": [
        {
          "output_type": "display_data",
          "data": {
            "text/plain": "<Figure size 500x1400 with 3 Axes>",
            "image/png": "[encoded data removed]"
          },
          "metadata": {}
        }
      ]
    },
    {
      "cell_type": "code",
      "source": [
        "curr_time = get_current_time()\n",
        "curr_time"
      ],
      "metadata": {
        "execution": {
          "iopub.status.busy": "2024-03-14T17:59:52.476271Z",
          "iopub.execute_input": "2024-03-14T17:59:52.476658Z",
          "iopub.status.idle": "2024-03-14T17:59:52.482968Z",
          "shell.execute_reply.started": "2024-03-14T17:59:52.476618Z",
          "shell.execute_reply": "2024-03-14T17:59:52.482026Z"
        },
        "trusted": true,
        "id": "H0zKUaVuXBp5",
        "outputId": "660896bc-ce4f-440c-a03d-0a3f1d796316"
      },
      "execution_count": null,
      "outputs": [
        {
          "execution_count": 112,
          "output_type": "execute_result",
          "data": {
            "text/plain": "'14_03_2024__13_59_52'"
          },
          "metadata": {}
        }
      ]
    },
    {
      "cell_type": "code",
      "source": [
        "PATH = os.getcwd() / Path(curr_time)\n",
        "PATH.mkdir(parents=True, exist_ok=True)\n",
        "model_name = \"VAE2_1.pt\"\n",
        "optimizer_name = \"Adam_1.pt\"\n",
        "# scheduler_name = \"ReduceLROnPlateau.pt\"\n",
        "\n",
        "save_model_info(PATH, DEVICE, vae2, model_name, optimizer, optimizer_name)\n"
      ],
      "metadata": {
        "execution": {
          "iopub.status.busy": "2024-03-14T18:02:51.100355Z",
          "iopub.execute_input": "2024-03-14T18:02:51.101016Z",
          "iopub.status.idle": "2024-03-14T18:02:51.124928Z",
          "shell.execute_reply.started": "2024-03-14T18:02:51.100986Z",
          "shell.execute_reply": "2024-03-14T18:02:51.124087Z"
        },
        "trusted": true,
        "id": "FQv646-CXBp5",
        "outputId": "0d9ca910-7250-47ed-cd27-8478ca56d684"
      },
      "execution_count": null,
      "outputs": [
        {
          "name": "stdout",
          "text": "Model info saved!\n",
          "output_type": "stream"
        }
      ]
    },
    {
      "cell_type": "code",
      "source": [
        "NEW_LEARNING_RATE = optimizer.param_groups[0][\"lr\"]\n",
        "\n",
        "loaded_model1 = VAE2(Encoder2(), Decoder2()).to(DEVICE)\n",
        "loaded_optimizer1 = optim.Adam(params=loaded_model1.parameters(), lr=NEW_LEARNING_RATE)\n",
        "# loaded_scheduler = optim.lr_scheduler.ReduceLROnPlateau(optimizer, factor=0.1,\n",
        "#                                                         mode=\"max\", verbose=True)\n",
        "\n",
        "load_model_info(PATH, DEVICE, loaded_model1, model_name, loaded_optimizer1,\n",
        "                optimizer_name)"
      ],
      "metadata": {
        "execution": {
          "iopub.status.busy": "2024-03-14T18:02:56.233496Z",
          "iopub.execute_input": "2024-03-14T18:02:56.233846Z",
          "iopub.status.idle": "2024-03-14T18:02:56.262464Z",
          "shell.execute_reply.started": "2024-03-14T18:02:56.233821Z",
          "shell.execute_reply": "2024-03-14T18:02:56.261573Z"
        },
        "trusted": true,
        "id": "knqw7pjmXBp5",
        "outputId": "275a6991-fae5-4e03-9c05-c1980ed52564"
      },
      "execution_count": null,
      "outputs": [
        {
          "name": "stdout",
          "text": "Model info loaded!\n",
          "output_type": "stream"
        }
      ]
    },
    {
      "cell_type": "code",
      "source": [
        "# Load the pretrained models\n",
        "PATH = \"/content/\"\n",
        "model_name = \"VAE2_1.pt\"\n",
        "optimizer_name = \"Adam_1.pt\"\n",
        "\n",
        "loaded_model2 = VAE2(Encoder2(), Decoder2()).to(DEVICE)\n",
        "loaded_optimizer2 = optim.Adam(params=loaded_models2.parameters(), lr=3e-4)\n",
        "\n",
        "load_model_info(\"PATH\", DEVICE, loaded_model2, model_name, loaded_optimizer2,\n",
        "                optimizer_name)"
      ],
      "metadata": {
        "colab": {
          "base_uri": "https://localhost:8080/",
          "height": 217
        },
        "id": "r5z5W-fsXBp5",
        "outputId": "b1c0bacf-d803-4b93-8d88-0f4c750dc682"
      },
      "execution_count": 51,
      "outputs": [
        {
          "output_type": "error",
          "ename": "NameError",
          "evalue": "name 'loaded_models2' is not defined",
          "traceback": [
            "\u001b[0;31m---------------------------------------------------------------------------\u001b[0m",
            "\u001b[0;31mNameError\u001b[0m                                 Traceback (most recent call last)",
            "\u001b[0;32m<ipython-input-51-7a2563706d09>\u001b[0m in \u001b[0;36m<cell line: 7>\u001b[0;34m()\u001b[0m\n\u001b[1;32m      5\u001b[0m \u001b[0;34m\u001b[0m\u001b[0m\n\u001b[1;32m      6\u001b[0m \u001b[0mloaded_model2\u001b[0m \u001b[0;34m=\u001b[0m \u001b[0mVAE2\u001b[0m\u001b[0;34m(\u001b[0m\u001b[0mEncoder2\u001b[0m\u001b[0;34m(\u001b[0m\u001b[0;34m)\u001b[0m\u001b[0;34m,\u001b[0m \u001b[0mDecoder2\u001b[0m\u001b[0;34m(\u001b[0m\u001b[0;34m)\u001b[0m\u001b[0;34m)\u001b[0m\u001b[0;34m.\u001b[0m\u001b[0mto\u001b[0m\u001b[0;34m(\u001b[0m\u001b[0mDEVICE\u001b[0m\u001b[0;34m)\u001b[0m\u001b[0;34m\u001b[0m\u001b[0;34m\u001b[0m\u001b[0m\n\u001b[0;32m----> 7\u001b[0;31m \u001b[0mloaded_optimizer2\u001b[0m \u001b[0;34m=\u001b[0m \u001b[0moptim\u001b[0m\u001b[0;34m.\u001b[0m\u001b[0mAdam\u001b[0m\u001b[0;34m(\u001b[0m\u001b[0mparams\u001b[0m\u001b[0;34m=\u001b[0m\u001b[0mloaded_models2\u001b[0m\u001b[0;34m.\u001b[0m\u001b[0mparameters\u001b[0m\u001b[0;34m(\u001b[0m\u001b[0;34m)\u001b[0m\u001b[0;34m,\u001b[0m \u001b[0mlr\u001b[0m\u001b[0;34m=\u001b[0m\u001b[0;36m3e-4\u001b[0m\u001b[0;34m)\u001b[0m\u001b[0;34m\u001b[0m\u001b[0;34m\u001b[0m\u001b[0m\n\u001b[0m\u001b[1;32m      8\u001b[0m \u001b[0;34m\u001b[0m\u001b[0m\n\u001b[1;32m      9\u001b[0m load_model_info(\"PATH\", DEVICE, loaded_model2, model_name, loaded_optimizer2, \n",
            "\u001b[0;31mNameError\u001b[0m: name 'loaded_models2' is not defined"
          ]
        }
      ]
    },
    {
      "cell_type": "code",
      "source": [],
      "metadata": {
        "id": "maQ_kC5NXBp5"
      },
      "execution_count": null,
      "outputs": []
    },
    {
      "cell_type": "code",
      "source": [],
      "metadata": {
        "id": "H2ZPquPNXBp5"
      },
      "execution_count": null,
      "outputs": []
    }
  ]
}