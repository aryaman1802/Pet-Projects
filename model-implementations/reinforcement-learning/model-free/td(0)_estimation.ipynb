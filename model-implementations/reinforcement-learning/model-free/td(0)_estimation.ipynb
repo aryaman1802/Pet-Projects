{
 "cells": [
  {
   "cell_type": "markdown",
   "metadata": {},
   "source": [
    "## TD(0) for Estimation Algorithm\n",
    "\n",
    "- TD $\\; \\rightarrow \\;$ Temporal Difference"
   ]
  },
  {
   "cell_type": "code",
   "execution_count": null,
   "metadata": {
    "vscode": {
     "languageId": "plaintext"
    }
   },
   "outputs": [],
   "source": [
    "import gymnasium as gym\n",
    "import numpy as np\n",
    "from collections import defaultdict\n",
    "from tqdm import tqdm\n",
    "import matplotlib.pyplot as plt\n",
    "from blackjack.plot_utils import plot_policy, plot_win_rate\n",
    "\n",
    "# create Blackjack environment\n",
    "env = gym.make(\"Blackjack-v1\", natural=False, sab=False)"
   ]
  }
 ],
 "metadata": {
  "language_info": {
   "name": "python"
  }
 },
 "nbformat": 4,
 "nbformat_minor": 2
}
