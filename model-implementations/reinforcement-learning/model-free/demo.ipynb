{
 "cells": [
  {
   "cell_type": "code",
   "execution_count": 1,
   "metadata": {},
   "outputs": [],
   "source": [
    "# Initial imports and enviroment setup\n",
    "import gymnasium as gym\n",
    "import numpy as np\n",
    "import sys\n",
    "import json\n",
    "from collections import defaultdict\n",
    "import matplotlib.pyplot as plt\n",
    "\n",
    "# create Blackjack environment\n",
    "env = gym.make(\"Blackjack-v1\", natural=False, sab=False)"
   ]
  },
  {
   "cell_type": "markdown",
   "metadata": {},
   "source": [
    "Check [this](https://gymnasium.farama.org/environments/toy_text/blackjack/) for more information about the Blackjack environment. \n",
    "\n",
    "In addition, check [this](https://youtu.be/NeusGkowXR4?si=9a1aE_bInK4vSAHw) and [this](https://youtu.be/wn8hlPNwL74?si=PV_h3WQCXmZKwRzW) videos for how the below code is written."
   ]
  },
  {
   "cell_type": "markdown",
   "metadata": {},
   "source": [
    "### Action Space\n",
    "\n",
    "- 0: Stick\n",
    "- 1: Hit"
   ]
  },
  {
   "cell_type": "markdown",
   "metadata": {},
   "source": [
    "### Starting State\n",
    "\n",
    "| **Observation** | **Values** |\n",
    "| --- | --- |\n",
    "| Player current sum | $4, 5, \\cdots, 21$ |\n",
    "| Dealer showing card value | $1, 2, \\cdots, 11$ |\n",
    "| Usable Ace | $0, 1$ |"
   ]
  },
  {
   "cell_type": "markdown",
   "metadata": {},
   "source": [
    "### Rewards\n",
    "\n",
    "- win game: +1\n",
    "- lose game: -1\n",
    "- draw game: 0\n",
    "- win game with natural blackjack: +1.5 (if `natural` is True) +1 (if `natural` is False)"
   ]
  },
  {
   "cell_type": "markdown",
   "metadata": {},
   "source": [
    "### Episode End\n",
    "\n",
    "The episode ends if the following happens:\n",
    "\n",
    "- Termination:\n",
    "\n",
    "1. The player hits and the sum of hand exceeds 21.\n",
    "2. The player sticks.\n",
    "\n",
    "An ace will always be counted as usable (11) unless it busts the player."
   ]
  },
  {
   "cell_type": "markdown",
   "metadata": {},
   "source": [
    "Our Q function will map 3 states to 2 actions, ie, $\\text{Q}: \\; 3 \\text{ states} \\; \\rightarrow \\; 2 \\text{ actions}$"
   ]
  },
  {
   "cell_type": "markdown",
   "metadata": {},
   "source": [
    "Check [this](https://www.geeksforgeeks.org/defaultdict-in-python/) for a refresher on `defaultdict`."
   ]
  },
  {
   "cell_type": "code",
   "execution_count": 2,
   "metadata": {},
   "outputs": [
    {
     "data": {
      "text/plain": [
       "Discrete(2)"
      ]
     },
     "execution_count": 2,
     "metadata": {},
     "output_type": "execute_result"
    }
   ],
   "source": [
    "env.action_space"
   ]
  },
  {
   "cell_type": "code",
   "execution_count": 3,
   "metadata": {},
   "outputs": [
    {
     "data": {
      "text/plain": [
       "2"
      ]
     },
     "execution_count": 3,
     "metadata": {},
     "output_type": "execute_result"
    }
   ],
   "source": [
    "# number of different discrete actions\n",
    "env.action_space.n"
   ]
  },
  {
   "cell_type": "code",
   "execution_count": 4,
   "metadata": {},
   "outputs": [
    {
     "data": {
      "text/plain": [
       "Tuple(Discrete(32), Discrete(11), Discrete(2))"
      ]
     },
     "execution_count": 4,
     "metadata": {},
     "output_type": "execute_result"
    }
   ],
   "source": [
    "env.observation_space"
   ]
  },
  {
   "cell_type": "code",
   "execution_count": 8,
   "metadata": {},
   "outputs": [
    {
     "data": {
      "text/plain": [
       "(13, 10, 0)"
      ]
     },
     "execution_count": 8,
     "metadata": {},
     "output_type": "execute_result"
    }
   ],
   "source": [
    "# env.reset()\n",
    "env.reset()[0]"
   ]
  },
  {
   "cell_type": "code",
   "execution_count": 5,
   "metadata": {},
   "outputs": [],
   "source": [
    "Q = defaultdict(lambda: np.zeros(env.action_space.n))"
   ]
  },
  {
   "cell_type": "markdown",
   "metadata": {},
   "source": [
    "The Q function takes as input the 3 different state values:\n",
    "- player's current\n",
    "- dealer's first card\n",
    "- whether the player has a usable ace\n",
    "\n",
    "Based on these 3 state values, the Q function returns 2 action values:\n",
    "- value of action 0, ie, the action-value of playing 'stick'.\n",
    "- value of action 1, ie, the action-value of playing 'hit'. "
   ]
  },
  {
   "cell_type": "code",
   "execution_count": 6,
   "metadata": {},
   "outputs": [
    {
     "data": {
      "text/plain": [
       "array([0., 0.])"
      ]
     },
     "execution_count": 6,
     "metadata": {},
     "output_type": "execute_result"
    }
   ],
   "source": [
    "Q[env.reset()[0]]"
   ]
  },
  {
   "cell_type": "code",
   "execution_count": null,
   "metadata": {},
   "outputs": [],
   "source": [
    "def epsilon_greedy_policy(Q, state, epsilon):\n",
    "    probs = np.zeros(env.action_space.n)\n",
    "    optimal_action = np.argmax(Q[state])\n",
    "    sub_optimal_action = \n",
    "    pass"
   ]
  },
  {
   "cell_type": "code",
   "execution_count": null,
   "metadata": {},
   "outputs": [],
   "source": [
    "def generate_episode():\n",
    "    pass"
   ]
  },
  {
   "cell_type": "code",
   "execution_count": 10,
   "metadata": {},
   "outputs": [],
   "source": [
    "class Kamal_MC:\n",
    "    def __init__(self, num_episodes, epsilon, epsilon_min, alpha, decay_rate):\n",
    "        \"\"\"\n",
    "        param num_episodes: (int) number of episodes to run the algorithm\n",
    "        param epsilon: (float) \n",
    "        param epsilon_min: (float) \n",
    "        param alpha: (float)\n",
    "        param decay_rate: (float)\n",
    "        \"\"\"\n",
    "        self.num_episodes = num_episodes\n",
    "        self.epsilon = epsilon\n",
    "        self.epsilon_min = epsilon_min\n",
    "        self.alpha = alpha\n",
    "        self.decay_rate = decay_rate\n",
    "        self.Q = defaultdict(lambda: np.zeros(env.action_space.n))\n",
    "\n",
    "    def monte_carlo_control(self):\n",
    "        for episode in range(1, self.num_episodes + 1):\n",
    "            self.epsilon = max(self.epsilon_min, self.epsilon * self.decay_rate)\n",
    "            "
   ]
  },
  {
   "cell_type": "code",
   "execution_count": null,
   "metadata": {},
   "outputs": [],
   "source": []
  },
  {
   "cell_type": "code",
   "execution_count": null,
   "metadata": {},
   "outputs": [],
   "source": [
    "# hyperparameters\n",
    "num_episodes = 10_000\n",
    "epsilon = 1\n",
    "epsilon_min = 0.05\n",
    "alpha = 0.02\n",
    "decay_rate = 0.9999\n",
    "\n",
    "mcc = Kamal_MC(num_episodes, epsilon, epsilon_min, alpha, decay_rate)"
   ]
  },
  {
   "cell_type": "code",
   "execution_count": 8,
   "metadata": {},
   "outputs": [],
   "source": [
    "class GLIE_MC_Control:\n",
    "    def __init__(self):\n",
    "        pass\n",
    "\n",
    "    def every_visit(self):\n",
    "        \"\"\"\n",
    "        This is the every-visit GLIE Monte Carlo Control algorithm.\n",
    "        Check pg. 88 of Nimish Sanghi's book for the pseudocode.\n",
    "        \"\"\"\n",
    "        pass\n",
    "\n",
    "    def first_visit(self):\n",
    "        \"\"\"\n",
    "        This is the first-visit GLIE Monte Carlo Control algorithm.\n",
    "        \"\"\"\n",
    "        pass"
   ]
  },
  {
   "cell_type": "code",
   "execution_count": 4,
   "metadata": {},
   "outputs": [
    {
     "name": "stdout",
     "output_type": "stream",
     "text": [
      "Initial state:\t (15, 10, 0)\n"
     ]
    }
   ],
   "source": [
    "def fn():\n",
    "    state, _ = env.reset()\n",
    "    print(\"Initial state:\\t\", state)\n",
    "\n",
    "fn()"
   ]
  },
  {
   "cell_type": "code",
   "execution_count": null,
   "metadata": {},
   "outputs": [],
   "source": []
  },
  {
   "cell_type": "code",
   "execution_count": null,
   "metadata": {},
   "outputs": [],
   "source": []
  },
  {
   "cell_type": "code",
   "execution_count": null,
   "metadata": {},
   "outputs": [],
   "source": []
  }
 ],
 "metadata": {
  "kernelspec": {
   "display_name": "base",
   "language": "python",
   "name": "python3"
  },
  "language_info": {
   "codemirror_mode": {
    "name": "ipython",
    "version": 3
   },
   "file_extension": ".py",
   "mimetype": "text/x-python",
   "name": "python",
   "nbconvert_exporter": "python",
   "pygments_lexer": "ipython3",
   "version": "3.9.7"
  }
 },
 "nbformat": 4,
 "nbformat_minor": 2
}
