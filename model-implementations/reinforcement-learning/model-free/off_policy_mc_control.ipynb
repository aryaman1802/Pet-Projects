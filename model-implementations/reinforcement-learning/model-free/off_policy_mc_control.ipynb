{
 "cells": [
  {
   "cell_type": "markdown",
   "metadata": {},
   "source": [
    "- In on-policy algorithms, the same policy is used to generate samples as well as policy improvement.\n",
    "- In off-policy algorithms, there are 2 different policies for generating samples and for policy improvement.\n",
    "    - The policy being used to generate the samples is called the **behavior policy**. This policy has more exploratory nature (ie, higher $\\varepsilon$ value). \n",
    "    - The policy being learned (maximized) is called the **target policy**. This policy has less exploratory nature (ie, lower $\\varepsilon$ value)."
   ]
  },
  {
   "cell_type": "code",
   "execution_count": null,
   "metadata": {},
   "outputs": [],
   "source": []
  }
 ],
 "metadata": {
  "language_info": {
   "name": "python"
  }
 },
 "nbformat": 4,
 "nbformat_minor": 2
}
