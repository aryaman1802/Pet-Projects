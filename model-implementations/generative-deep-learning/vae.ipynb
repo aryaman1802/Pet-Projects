{
 "cells": [
  {
   "cell_type": "markdown",
   "metadata": {},
   "source": [
    "## Variational Autoencoder (VAE)\n",
    "\n",
    "Paper: [Auto-Encoding Variational Bayes](https://arxiv.org/pdf/1312.6114)\n",
    "\n",
    "Helpful resources:\n",
    "- [Datacamp's tutorial on VAE](https://www.datacamp.com/tutorial/variational-autoencoders)\n",
    "- [CodeEmporium's video on VAE](https://youtu.be/fcvYpzHmhvA?si=WBQ9X6yVhKPOVagA)\n",
    "- [Stanford's Deep Generative Models playlist](https://youtube.com/playlist?list=PLoROMvodv4rPOWA-omMM6STXaWW4FvJT8&si=N_TpTe1bPIhte-t8)"
   ]
  },
  {
   "cell_type": "code",
   "execution_count": null,
   "metadata": {},
   "outputs": [],
   "source": []
  }
 ],
 "metadata": {
  "language_info": {
   "name": "python"
  }
 },
 "nbformat": 4,
 "nbformat_minor": 2
}
