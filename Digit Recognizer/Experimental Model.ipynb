{
 "cells": [
  {
   "cell_type": "markdown",
   "metadata": {},
   "source": [
    "# Importing Libraries"
   ]
  },
  {
   "cell_type": "code",
   "execution_count": 1,
   "metadata": {
    "_cell_guid": "b1076dfc-b9ad-4769-8c92-a6c4dae69d19",
    "_uuid": "8f2839f25d086af736a60e9eeb907d3b93b6e0e5",
    "execution": {
     "iopub.execute_input": "2022-05-22T12:14:58.689058Z",
     "iopub.status.busy": "2022-05-22T12:14:58.687995Z",
     "iopub.status.idle": "2022-05-22T12:14:59.70609Z",
     "shell.execute_reply": "2022-05-22T12:14:59.705351Z",
     "shell.execute_reply.started": "2022-05-22T12:14:58.688947Z"
    },
    "papermill": {
     "duration": 1.286982,
     "end_time": "2022-05-16T10:02:11.767224",
     "exception": false,
     "start_time": "2022-05-16T10:02:10.480242",
     "status": "completed"
    },
    "tags": []
   },
   "outputs": [
    {
     "name": "stderr",
     "output_type": "stream",
     "text": [
      "2022-06-12 01:19:52.155108: W tensorflow/stream_executor/platform/default/dso_loader.cc:64] Could not load dynamic library 'libcudart.so.11.0'; dlerror: libcudart.so.11.0: cannot open shared object file: No such file or directory\n",
      "2022-06-12 01:19:52.155138: I tensorflow/stream_executor/cuda/cudart_stub.cc:29] Ignore above cudart dlerror if you do not have a GPU set up on your machine.\n"
     ]
    }
   ],
   "source": [
    "import numpy as np \n",
    "import pandas as pd\n",
    "import matplotlib.pyplot as plt\n",
    "from joblib import dump, load\n",
    "from sklearn.model_selection import train_test_split\n",
    "from sklearn.metrics import accuracy_score\n",
    "\n",
    "from tensorflow import keras\n",
    "from tensorflow.keras import layers\n",
    "from tensorflow.keras.datasets import mnist\n",
    "\n",
    "import torch\n",
    "import torch.optim as optim\n",
    "import torch.nn as nn"
   ]
  },
  {
   "cell_type": "markdown",
   "metadata": {},
   "source": [
    "# Data Generation"
   ]
  },
  {
   "cell_type": "code",
   "execution_count": 2,
   "metadata": {},
   "outputs": [],
   "source": [
    "(train_images, train_labels), (test_images, test_labels) = mnist.load_data()\n",
    "train_images = train_images.reshape((60000, 28, 28, 1))\n",
    "train_images = train_images.astype('float32') / 255\n",
    "test_images = test_images.reshape((10000, 28, 28, 1))\n",
    "test_images = test_images.astype('float32') / 255"
   ]
  },
  {
   "cell_type": "markdown",
   "metadata": {},
   "source": [
    "# Model Configuration"
   ]
  },
  {
   "cell_type": "code",
   "execution_count": 3,
   "metadata": {},
   "outputs": [
    {
     "name": "stdout",
     "output_type": "stream",
     "text": [
      "Model: \"model\"\n",
      "_________________________________________________________________\n",
      " Layer (type)                Output Shape              Param #   \n",
      "=================================================================\n",
      " input_1 (InputLayer)        [(None, 28, 28, 1)]       0         \n",
      "                                                                 \n",
      " conv2d (Conv2D)             (None, 26, 26, 32)        320       \n",
      "                                                                 \n",
      " max_pooling2d (MaxPooling2D  (None, 13, 13, 32)       0         \n",
      " )                                                               \n",
      "                                                                 \n",
      " conv2d_1 (Conv2D)           (None, 11, 11, 64)        18496     \n",
      "                                                                 \n",
      " max_pooling2d_1 (MaxPooling  (None, 5, 5, 64)         0         \n",
      " 2D)                                                             \n",
      "                                                                 \n",
      " conv2d_2 (Conv2D)           (None, 3, 3, 128)         73856     \n",
      "                                                                 \n",
      " flatten (Flatten)           (None, 1152)              0         \n",
      "                                                                 \n",
      " dense (Dense)               (None, 10)                11530     \n",
      "                                                                 \n",
      "=================================================================\n",
      "Total params: 104,202\n",
      "Trainable params: 104,202\n",
      "Non-trainable params: 0\n",
      "_________________________________________________________________\n"
     ]
    },
    {
     "name": "stderr",
     "output_type": "stream",
     "text": [
      "2022-06-12 01:19:57.261287: E tensorflow/stream_executor/cuda/cuda_driver.cc:271] failed call to cuInit: CUDA_ERROR_NO_DEVICE: no CUDA-capable device is detected\n",
      "2022-06-12 01:19:57.261392: I tensorflow/stream_executor/cuda/cuda_diagnostics.cc:156] kernel driver does not appear to be running on this host (aryaman-Surface-Book-2): /proc/driver/nvidia/version does not exist\n",
      "2022-06-12 01:19:57.262361: I tensorflow/core/platform/cpu_feature_guard.cc:151] This TensorFlow binary is optimized with oneAPI Deep Neural Network Library (oneDNN) to use the following CPU instructions in performance-critical operations:  AVX2 FMA\n",
      "To enable them in other operations, rebuild TensorFlow with the appropriate compiler flags.\n"
     ]
    }
   ],
   "source": [
    "inputs = keras.Input(shape=(28,28,1))\n",
    "x = layers.Conv2D(filters=32, kernel_size=3, activation='relu')(inputs)\n",
    "x = layers.MaxPooling2D(pool_size=2)(x)\n",
    "x = layers.Conv2D(filters=64, kernel_size=3, activation='relu')(x)\n",
    "x = layers.MaxPooling2D(pool_size=2)(x)\n",
    "x = layers.Conv2D(filters=128, kernel_size=3, activation='relu')(x)\n",
    "x = layers.Flatten()(x)\n",
    "outputs = layers.Dense(10, activation='softmax')(x)\n",
    "model = keras.Model(inputs=inputs, outputs=outputs)\n",
    "\n",
    "model.summary()"
   ]
  },
  {
   "cell_type": "markdown",
   "metadata": {},
   "source": [
    "# Training"
   ]
  },
  {
   "cell_type": "code",
   "execution_count": 22,
   "metadata": {},
   "outputs": [
    {
     "name": "stdout",
     "output_type": "stream",
     "text": [
      "Epoch 1/5\n",
      "938/938 [==============================] - 19s 19ms/step - loss: 0.0061 - accuracy: 0.9982 - val_loss: 0.0391 - val_accuracy: 0.9913\n",
      "Epoch 2/5\n",
      "938/938 [==============================] - 18s 19ms/step - loss: 0.0047 - accuracy: 0.9985 - val_loss: 0.0362 - val_accuracy: 0.9926\n",
      "Epoch 3/5\n",
      "938/938 [==============================] - 18s 19ms/step - loss: 0.0042 - accuracy: 0.9986 - val_loss: 0.0377 - val_accuracy: 0.9927\n",
      "Epoch 4/5\n",
      "938/938 [==============================] - 18s 19ms/step - loss: 0.0034 - accuracy: 0.9991 - val_loss: 0.0475 - val_accuracy: 0.9912\n",
      "Epoch 5/5\n",
      "938/938 [==============================] - 18s 19ms/step - loss: 0.0038 - accuracy: 0.9990 - val_loss: 0.0381 - val_accuracy: 0.9923\n"
     ]
    },
    {
     "data": {
      "text/plain": [
       "<keras.callbacks.History at 0x7fd6c9d84d30>"
      ]
     },
     "execution_count": 22,
     "metadata": {},
     "output_type": "execute_result"
    }
   ],
   "source": [
    "my_callback = [\n",
    "    keras.callbacks.ModelCheckpoint(\n",
    "        filepath = \"train_data_checkpoint_path.keras\",\n",
    "        monitor = 'val_loss',\n",
    "        save_best_only = True)\n",
    "]\n",
    "\n",
    "model.compile(loss='sparse_categorical_crossentropy',\n",
    "              optimizer='rmsprop',\n",
    "              metrics=['accuracy'])\n",
    "\n",
    "model.fit(train_images, train_labels, epochs=5, batch_size=64, \n",
    "          callbacks=my_callback, validation_data=(test_images, test_labels))"
   ]
  },
  {
   "cell_type": "markdown",
   "metadata": {},
   "source": [
    "# Evaluation"
   ]
  },
  {
   "cell_type": "code",
   "execution_count": 23,
   "metadata": {},
   "outputs": [
    {
     "name": "stdout",
     "output_type": "stream",
     "text": [
      "313/313 [==============================] - 1s 4ms/step - loss: 0.0381 - accuracy: 0.9923\n",
      "Test Accuracy:\t 0.992\n",
      "Test Loss:\t 0.038\n"
     ]
    }
   ],
   "source": [
    "test_loss, test_acc = model.evaluate(test_images, test_labels)\n",
    "print(f\"Test Accuracy:\\t {test_acc:.3f}\")\n",
    "print(f\"Test Loss:\\t {test_loss:.3f}\")"
   ]
  },
  {
   "cell_type": "markdown",
   "metadata": {},
   "source": [
    "# Training on the full dataset (`train` + `test`)"
   ]
  },
  {
   "cell_type": "code",
   "execution_count": 19,
   "metadata": {},
   "outputs": [
    {
     "data": {
      "text/plain": [
       "((70000, 28, 28, 1), (10000,))"
      ]
     },
     "execution_count": 19,
     "metadata": {},
     "output_type": "execute_result"
    }
   ],
   "source": [
    "total_images = np.concatenate((train_images, test_images))\n",
    "total_labels = np.concatenate((train_labels, test_labels))\n",
    "total_images.shape, test_labels.shape"
   ]
  },
  {
   "cell_type": "code",
   "execution_count": 25,
   "metadata": {},
   "outputs": [
    {
     "name": "stdout",
     "output_type": "stream",
     "text": [
      "Epoch 1/10\n",
      "1094/1094 [==============================] - 21s 19ms/step - loss: 0.0038 - accuracy: 0.9990\n",
      "Epoch 2/10\n",
      "1094/1094 [==============================] - 22s 20ms/step - loss: 0.0029 - accuracy: 0.9992\n",
      "Epoch 3/10\n",
      "1094/1094 [==============================] - 21s 19ms/step - loss: 0.0028 - accuracy: 0.9992\n",
      "Epoch 4/10\n",
      "1094/1094 [==============================] - 21s 19ms/step - loss: 0.0025 - accuracy: 0.9993\n",
      "Epoch 5/10\n",
      "1094/1094 [==============================] - 22s 20ms/step - loss: 0.0022 - accuracy: 0.9993\n",
      "Epoch 6/10\n",
      "1094/1094 [==============================] - 21s 19ms/step - loss: 0.0022 - accuracy: 0.9993\n",
      "Epoch 7/10\n",
      "1094/1094 [==============================] - 21s 20ms/step - loss: 0.0019 - accuracy: 0.9994\n",
      "Epoch 8/10\n",
      "1094/1094 [==============================] - 23s 21ms/step - loss: 0.0020 - accuracy: 0.9995\n",
      "Epoch 9/10\n",
      "1094/1094 [==============================] - 21s 19ms/step - loss: 0.0014 - accuracy: 0.9996\n",
      "Epoch 10/10\n",
      "1094/1094 [==============================] - 21s 19ms/step - loss: 0.0021 - accuracy: 0.9995\n"
     ]
    },
    {
     "data": {
      "text/plain": [
       "<keras.callbacks.History at 0x7fd6c9384bb0>"
      ]
     },
     "execution_count": 25,
     "metadata": {},
     "output_type": "execute_result"
    }
   ],
   "source": [
    "my_callback2 = [\n",
    "    keras.callbacks.ModelCheckpoint(\n",
    "    filepath = \"total_data_checkpoint_path.keras\",\n",
    "    monitor = 'loss',\n",
    "    save_best_only = True)\n",
    "]\n",
    "\n",
    "model.compile(loss='sparse_categorical_crossentropy',\n",
    "              optimizer='rmsprop',\n",
    "              metrics=['accuracy'])\n",
    "\n",
    "model.fit(total_images, total_labels, epochs=10, batch_size=64, \n",
    "          callbacks=my_callback2)"
   ]
  },
  {
   "cell_type": "markdown",
   "metadata": {},
   "source": [
    "# Saving the Model"
   ]
  },
  {
   "cell_type": "code",
   "execution_count": 26,
   "metadata": {},
   "outputs": [
    {
     "name": "stderr",
     "output_type": "stream",
     "text": [
      "2022-06-11 22:52:20.541022: W tensorflow/python/util/util.cc:368] Sets are not currently considered sequences, but this may change in the future, so consider avoiding using them.\n"
     ]
    },
    {
     "name": "stdout",
     "output_type": "stream",
     "text": [
      "INFO:tensorflow:Assets written to: ram://30e52e65-d6c6-420a-81cf-d133ac680dba/assets\n"
     ]
    },
    {
     "data": {
      "text/plain": [
       "['convnet_for_mnist.joblib']"
      ]
     },
     "execution_count": 26,
     "metadata": {},
     "output_type": "execute_result"
    }
   ],
   "source": [
    "dump(model, \"convnet_for_mnist.joblib\")"
   ]
  },
  {
   "cell_type": "code",
   "execution_count": 27,
   "metadata": {},
   "outputs": [
    {
     "name": "stdout",
     "output_type": "stream",
     "text": [
      "313/313 [==============================] - 1s 4ms/step - loss: 3.7286e-04 - accuracy: 0.9998\n",
      "Test Accuracy:\t 1.000\n",
      "Test Loss:\t 0.000\n"
     ]
    }
   ],
   "source": [
    "loaded_model = load(\"convnet_for_mnist.joblib\")\n",
    "lm_test_loss, lm_test_acc = loaded_model.evaluate(test_images, test_labels)\n",
    "print(f\"Test Accuracy:\\t {lm_test_acc:.3f}\")\n",
    "print(f\"Test Loss:\\t {lm_test_loss:.3f}\")"
   ]
  },
  {
   "cell_type": "markdown",
   "metadata": {},
   "source": [
    "# Augmenting Images"
   ]
  },
  {
   "cell_type": "code",
   "execution_count": 59,
   "metadata": {},
   "outputs": [],
   "source": [
    "data_augmentation = keras.Sequential([\n",
    "    layers.RandomZoom(0.3)       # 30%\n",
    "])"
   ]
  },
  {
   "cell_type": "markdown",
   "metadata": {},
   "source": [
    "**Before data augmentation**"
   ]
  },
  {
   "cell_type": "code",
   "execution_count": 44,
   "metadata": {},
   "outputs": [
    {
     "data": {
      "image/png": "[encoded data removed]",
      "text/plain": [
       "<Figure size 432x288 with 1 Axes>"
      ]
     },
     "metadata": {
      "needs_background": "light"
     },
     "output_type": "display_data"
    }
   ],
   "source": [
    "index = 4\n",
    "digit = train_images[index]\n",
    "plt.imshow(digit, cmap=plt.get_cmap('gray'))\n",
    "plt.title(f\"Label: {train_labels[index]}\")\n",
    "plt.axis('off');"
   ]
  },
  {
   "cell_type": "markdown",
   "metadata": {},
   "source": [
    "**After data augmentation**"
   ]
  },
  {
   "cell_type": "code",
   "execution_count": 58,
   "metadata": {},
   "outputs": [
    {
     "data": {
      "image/png": "[encoded data removed]",
      "text/plain": [
       "<Figure size 432x288 with 1 Axes>"
      ]
     },
     "metadata": {
      "needs_background": "light"
     },
     "output_type": "display_data"
    }
   ],
   "source": [
    "augmented_digit = data_augmentation(digit).numpy()\n",
    "plt.imshow(augmented_digit, cmap=plt.get_cmap('gray'))\n",
    "plt.title(f\"Label: {train_labels[index]}\")\n",
    "plt.axis('off');"
   ]
  },
  {
   "cell_type": "code",
   "execution_count": null,
   "metadata": {},
   "outputs": [],
   "source": []
  }
 ],
 "metadata": {
  "kernelspec": {
   "display_name": "Python 3 (ipykernel)",
   "language": "python",
   "name": "python3"
  },
  "language_info": {
   "codemirror_mode": {
    "name": "ipython",
    "version": 3
   },
   "file_extension": ".py",
   "mimetype": "text/x-python",
   "name": "python",
   "nbconvert_exporter": "python",
   "pygments_lexer": "ipython3",
   "version": "3.9.7"
  }
 },
 "nbformat": 4,
 "nbformat_minor": 4
}
